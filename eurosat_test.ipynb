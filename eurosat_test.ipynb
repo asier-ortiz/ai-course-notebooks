{
 "cells": [
  {
   "cell_type": "code",
   "id": "initial_id",
   "metadata": {
    "collapsed": true,
    "ExecuteTime": {
     "end_time": "2025-03-10T14:36:55.668166Z",
     "start_time": "2025-03-10T14:36:54.844045Z"
    }
   },
   "source": [
    "import kagglehub\n",
    "import shutil\n",
    "import os\n",
    "import cv2\n",
    "import json\n",
    "import numpy as np\n",
    "from skimage.feature import graycomatrix, graycoprops\n",
    "from sklearn.svm import SVC\n",
    "from sklearn.model_selection import train_test_split\n",
    "from sklearn.metrics import accuracy_score"
   ],
   "outputs": [],
   "execution_count": 1
  },
  {
   "metadata": {
    "ExecuteTime": {
     "end_time": "2025-03-10T14:36:55.679313Z",
     "start_time": "2025-03-10T14:36:55.676333Z"
    }
   },
   "cell_type": "code",
   "source": [
    "# Descarga el dataset si no existe en la carpeta data\n",
    "dataset_final_path = \"data/EuroSAT/\"\n",
    "\n",
    "if os.path.exists(dataset_final_path):\n",
    "    print(\"El dataset ya está descargado. No es necesario volver a descargarlo\")\n",
    "else:\n",
    "    print(\"Descargando el dataset...\")\n",
    "    download_path = kagglehub.dataset_download(\"apollo2506/eurosat-dataset\")\n",
    "    original_path = os.path.join(download_path, \"EuroSAT\")\n",
    "\n",
    "    # Verifica que la carpeta EuroSAT existe en el dataset descargado\n",
    "    if os.path.exists(original_path):\n",
    "        # Mueve la carpeta EuroSAT a data\n",
    "        shutil.move(original_path, dataset_final_path)\n",
    "        print(f\"Dataset movido a: {dataset_final_path}\")\n",
    "    else:\n",
    "        print(\"Error: No se encontró la carpeta EuroSAT dentro del dataset\")"
   ],
   "id": "3462d732513d2cf6",
   "outputs": [
    {
     "name": "stdout",
     "output_type": "stream",
     "text": [
      "El dataset ya está descargado. No es necesario volver a descargarlo\n"
     ]
    }
   ],
   "execution_count": 2
  },
  {
   "metadata": {
    "ExecuteTime": {
     "end_time": "2025-03-10T14:36:55.781235Z",
     "start_time": "2025-03-10T14:36:55.778940Z"
    }
   },
   "cell_type": "code",
   "source": [
    "# Mapeo de etiquetas desde el fichero label_map.json\n",
    "label_map_path = os.path.join(dataset_final_path, \"label_map.json\")\n",
    "\n",
    "with open(label_map_path, \"r\") as file:\n",
    "    label_map = json.load(file)\n",
    "\n",
    "print(\"Etiquetas:\", label_map)"
   ],
   "id": "a653d3dbd63ab033",
   "outputs": [
    {
     "name": "stdout",
     "output_type": "stream",
     "text": [
      "Etiquetas: {'AnnualCrop': 0, 'Forest': 1, 'HerbaceousVegetation': 2, 'Highway': 3, 'Industrial': 4, 'Pasture': 5, 'PermanentCrop': 6, 'Residential': 7, 'River': 8, 'SeaLake': 9}\n"
     ]
    }
   ],
   "execution_count": 3
  },
  {
   "metadata": {
    "ExecuteTime": {
     "end_time": "2025-03-10T14:37:29.258807Z",
     "start_time": "2025-03-10T14:36:55.804445Z"
    }
   },
   "cell_type": "code",
   "source": [
    "# Extracción de características Haralick de las imágenes\n",
    "\n",
    "# Ref. https://scikit-image.org/docs/stable/api/skimage.feature.html#skimage.feature.graycomatrix\n",
    "# Ref. https://scikit-image.org/docs/stable/api/skimage.feature.html#skimage.feature.graycoprops\n",
    "# Ref. https://medium.com/top-python-libraries/12-examples-of-image-texture-analysis-in-python-6cf7c179ada7\n",
    "# Ref. https://medium.com/@girishajmera/feature-extraction-of-images-using-glcm-gray-level-cooccurrence-matrix-e4bda8729498\n",
    "\n",
    "# Parámetros para calcular la matriz de co-ocurrencia de niveles de gris (GLCM)\n",
    "distances = [1]  # Distancia de 1 píxel entre los valores a comparar\n",
    "angles = [0]  # Ángulo de 0 grados (horizontal) para evaluar la textura\n",
    "\n",
    "X, y = [], []  # Listas para almacenar las características 'X' y etiquetas 'y'\n",
    "\n",
    "# Recorre todas las carpetas dentro del dataset\n",
    "for class_name, label in label_map.items():\n",
    "\n",
    "    class_path = os.path.join(dataset_final_path, class_name)\n",
    "\n",
    "    if not os.path.isdir(class_path):\n",
    "        continue  # Si no es una carpeta válida se ignora\n",
    "\n",
    "    print(f\"Procesando: {class_name}\")\n",
    "\n",
    "    # Recorre todas las imágenes dentro de la carpeta actual\n",
    "    for img_name in os.listdir(class_path):\n",
    "        img_path = os.path.join(class_path, img_name)\n",
    "\n",
    "        # Carga la imagen en escala de grises\n",
    "        img = cv2.imread(img_path, cv2.IMREAD_GRAYSCALE)\n",
    "\n",
    "        # Si la imagen no se puede leer se ignora\n",
    "        if img is None:\n",
    "            continue\n",
    "\n",
    "        # Calcula la matriz de co-ocurrencia de niveles de gris (GLCM)\n",
    "        glcm = graycomatrix(img, distances, angles, symmetric=True, normed=True)\n",
    "\n",
    "        # Extracción de características de Haralick\n",
    "        contrast = graycoprops(glcm, 'contrast')[0, 0]  # Mide la diferencia entre valores de píxeles vecinos\n",
    "        dissimilarity = graycoprops(glcm, 'dissimilarity')[0, 0]  # Diferencia media entre píxeles\n",
    "        homogeneity = graycoprops(glcm, 'homogeneity')[0, 0]  # Valores similares tienen homogeneidad alta\n",
    "        energy = graycoprops(glcm, 'energy')[0, 0]  # Mide cuánta uniformidad hay en la imagen\n",
    "        correlation = graycoprops(glcm, 'correlation')[0, 0]  # Relación lineal entre los píxeles\n",
    "        asm = graycoprops(glcm, 'ASM')[0, 0]  # Medida de uniformidad basada en probabilidad\n",
    "\n",
    "        # Guarda el vector de características en el array 'X'\n",
    "        features = [contrast, dissimilarity, homogeneity, energy, correlation, asm]\n",
    "        X.append(features)\n",
    "\n",
    "        # Guardamos la etiqueta correspondiente en la lista y\n",
    "        y.append(label)\n",
    "\n",
    "print(\"Extracción de features completada\")"
   ],
   "id": "e3861270bd9d2b44",
   "outputs": [
    {
     "name": "stdout",
     "output_type": "stream",
     "text": [
      "Procesando: AnnualCrop\n",
      "Procesando: Forest\n",
      "Procesando: HerbaceousVegetation\n",
      "Procesando: Highway\n",
      "Procesando: Industrial\n",
      "Procesando: Pasture\n",
      "Procesando: PermanentCrop\n",
      "Procesando: Residential\n",
      "Procesando: River\n",
      "Procesando: SeaLake\n",
      "Extracción de features completada\n"
     ]
    }
   ],
   "execution_count": 4
  },
  {
   "metadata": {
    "ExecuteTime": {
     "end_time": "2025-03-10T14:37:29.276934Z",
     "start_time": "2025-03-10T14:37:29.264101Z"
    }
   },
   "cell_type": "code",
   "source": [
    "# Convierte los datos en arrays\n",
    "X = np.array(X)\n",
    "y = np.array(y)\n",
    "\n",
    "# División de los datos de entrenamiento y prueba\n",
    "X_train, X_test, y_train, y_test = train_test_split(X, y, test_size=0.2, random_state=42)\n",
    "\n",
    "print(f\"Tamaño del conjunto de entrenamiento: {X_train.shape}\")\n",
    "print(f\"Tamaño del conjunto de prueba: {X_test.shape}\")"
   ],
   "id": "29b7d89856afb5ee",
   "outputs": [
    {
     "name": "stdout",
     "output_type": "stream",
     "text": [
      "Tamaño del conjunto de entrenamiento: (21600, 6)\n",
      "Tamaño del conjunto de prueba: (5400, 6)\n"
     ]
    }
   ],
   "execution_count": 5
  },
  {
   "metadata": {
    "ExecuteTime": {
     "end_time": "2025-03-10T14:40:27.025512Z",
     "start_time": "2025-03-10T14:37:29.296491Z"
    }
   },
   "cell_type": "code",
   "source": [
    "# Entrenamiento del modelo con SVM\n",
    "svm = SVC(kernel='linear')\n",
    "svm.fit(X_train, y_train)\n",
    "\n",
    "# Evaluación del modelo\n",
    "y_pred = svm.predict(X_test)\n",
    "accuracy = accuracy_score(y_test, y_pred)\n",
    "\n",
    "print(f\"Precisión del modelo: {accuracy:.2f}\")"
   ],
   "id": "ec3bf12655b74c2d",
   "outputs": [
    {
     "name": "stdout",
     "output_type": "stream",
     "text": [
      "Precisión del modelo: 0.68\n"
     ]
    }
   ],
   "execution_count": 6
  }
 ],
 "metadata": {
  "kernelspec": {
   "display_name": "Python 3",
   "language": "python",
   "name": "python3"
  },
  "language_info": {
   "codemirror_mode": {
    "name": "ipython",
    "version": 2
   },
   "file_extension": ".py",
   "mimetype": "text/x-python",
   "name": "python",
   "nbconvert_exporter": "python",
   "pygments_lexer": "ipython2",
   "version": "2.7.6"
  }
 },
 "nbformat": 4,
 "nbformat_minor": 5
}
