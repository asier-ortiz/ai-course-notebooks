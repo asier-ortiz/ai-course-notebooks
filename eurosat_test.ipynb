{
 "cells": [
  {
   "cell_type": "code",
   "id": "initial_id",
   "metadata": {
    "collapsed": true,
    "ExecuteTime": {
     "end_time": "2025-03-11T09:43:50.471029Z",
     "start_time": "2025-03-11T09:43:48.054753Z"
    }
   },
   "source": [
    "import kagglehub\n",
    "import shutil\n",
    "import os\n",
    "import cv2\n",
    "import json\n",
    "import numpy as np\n",
    "from skimage.feature import graycomatrix, graycoprops, hog\n",
    "from sklearn.svm import SVC\n",
    "from sklearn.model_selection import train_test_split\n",
    "from sklearn.metrics import accuracy_score"
   ],
   "outputs": [],
   "execution_count": 1
  },
  {
   "metadata": {
    "ExecuteTime": {
     "end_time": "2025-03-11T09:43:50.480529Z",
     "start_time": "2025-03-11T09:43:50.478062Z"
    }
   },
   "cell_type": "code",
   "source": [
    "# Descarga el dataset si no existe en la carpeta data\n",
    "dataset_final_path = \"data/EuroSAT/\"\n",
    "\n",
    "if os.path.exists(dataset_final_path):\n",
    "    print(\"El dataset ya está descargado. No es necesario volver a descargarlo\")\n",
    "else:\n",
    "    print(\"Descargando el dataset...\")\n",
    "    download_path = kagglehub.dataset_download(\"apollo2506/eurosat-dataset\")\n",
    "    original_path = os.path.join(download_path, \"EuroSAT\")\n",
    "\n",
    "    # Verifica que la carpeta EuroSAT existe en el dataset descargado\n",
    "    if os.path.exists(original_path):\n",
    "        # Mueve la carpeta EuroSAT a data\n",
    "        shutil.move(original_path, dataset_final_path)\n",
    "        print(f\"Dataset movido a: {dataset_final_path}\")\n",
    "    else:\n",
    "        print(\"Error: No se encontró la carpeta EuroSAT dentro del dataset\")"
   ],
   "id": "3462d732513d2cf6",
   "outputs": [
    {
     "name": "stdout",
     "output_type": "stream",
     "text": [
      "El dataset ya está descargado. No es necesario volver a descargarlo\n"
     ]
    }
   ],
   "execution_count": 2
  },
  {
   "metadata": {
    "ExecuteTime": {
     "end_time": "2025-03-11T09:43:50.488634Z",
     "start_time": "2025-03-11T09:43:50.486026Z"
    }
   },
   "cell_type": "code",
   "source": [
    "# Mapeo de etiquetas desde el fichero label_map.json\n",
    "label_map_path = os.path.join(dataset_final_path, \"label_map.json\")\n",
    "\n",
    "with open(label_map_path, \"r\") as file:\n",
    "    label_map = json.load(file)\n",
    "\n",
    "print(\"Etiquetas:\", label_map)"
   ],
   "id": "a653d3dbd63ab033",
   "outputs": [
    {
     "name": "stdout",
     "output_type": "stream",
     "text": [
      "Etiquetas: {'AnnualCrop': 0, 'Forest': 1, 'HerbaceousVegetation': 2, 'Highway': 3, 'Industrial': 4, 'Pasture': 5, 'PermanentCrop': 6, 'Residential': 7, 'River': 8, 'SeaLake': 9}\n"
     ]
    }
   ],
   "execution_count": 3
  },
  {
   "metadata": {
    "ExecuteTime": {
     "end_time": "2025-03-11T09:44:44.611643Z",
     "start_time": "2025-03-11T09:43:50.579128Z"
    }
   },
   "cell_type": "code",
   "source": [
    "# Extracción de características Haralick y HOG de las imágenes\n",
    "\n",
    "# Ref. https://scikit-image.org/docs/stable/api/skimage.feature.html#skimage.feature.graycomatrix\n",
    "# Ref. https://scikit-image.org/docs/stable/api/skimage.feature.html#skimage.feature.graycoprops\n",
    "# Ref. https://medium.com/top-python-libraries/12-examples-of-image-texture-analysis-in-python-6cf7c179ada7\n",
    "# Ref. https://medium.com/@girishajmera/feature-extraction-of-images-using-glcm-gray-level-cooccurrence-matrix-e4bda8729498\n",
    "# Ref. https://medium.com/swlh/histogram-of-oriented-gradients-hog-for-multiclass-image-classification-and-image-recommendation-cf0ea2caaae8\n",
    "\n",
    "# Parámetros para calcular la matriz de co-ocurrencia de niveles de gris (GLCM)\n",
    "distances = [1]  # Distancia de 1 píxel entre los valores a comparar\n",
    "angles = [0]  # Ángulo de 0 grados (horizontal) para evaluar la textura\n",
    "\n",
    "X_haralick, X_hog, X_combined, y = [], [], [], []\n",
    "\n",
    "# Recorre todas las carpetas dentro del dataset\n",
    "for class_name, label in label_map.items():\n",
    "\n",
    "    class_path = os.path.join(dataset_final_path, class_name)\n",
    "\n",
    "    if not os.path.isdir(class_path):\n",
    "        continue  # Si no es una carpeta válida se ignora\n",
    "\n",
    "    print(f\"Procesando: {class_name}\")\n",
    "\n",
    "    # Recorre todas las imágenes dentro de la carpeta actual\n",
    "    for img_name in os.listdir(class_path):\n",
    "        img_path = os.path.join(class_path, img_name)\n",
    "\n",
    "        # Carga la imagen en escala de grises\n",
    "        img = cv2.imread(img_path, cv2.IMREAD_GRAYSCALE)\n",
    "\n",
    "        # Si la imagen no se puede leer se ignora\n",
    "        if img is None:\n",
    "            continue\n",
    "\n",
    "        # Calcula la matriz de co-ocurrencia de niveles de gris (GLCM)\n",
    "        glcm = graycomatrix(img, distances, angles, symmetric=True, normed=True)\n",
    "\n",
    "        # Extracción de características de Haralick\n",
    "        contrast = graycoprops(glcm, 'contrast')[0, 0]\n",
    "        dissimilarity = graycoprops(glcm, 'dissimilarity')[0, 0]\n",
    "        homogeneity = graycoprops(glcm, 'homogeneity')[0, 0]\n",
    "        energy = graycoprops(glcm, 'energy')[0, 0]\n",
    "        correlation = graycoprops(glcm, 'correlation')[0, 0]\n",
    "        asm = graycoprops(glcm, 'ASM')[0, 0]\n",
    "        haralick_features = [contrast, dissimilarity, homogeneity, energy, correlation, asm]\n",
    "\n",
    "        # Histograma de Gradientes Orientados (HOG)\n",
    "        hog_features = hog(img, pixels_per_cell=(8, 8), cells_per_block=(2, 2), feature_vector=True)\n",
    "\n",
    "        # Almaceno las características en listas separadas\n",
    "        X_haralick.append(haralick_features)\n",
    "        X_hog.append(list(hog_features))\n",
    "        X_combined.append(haralick_features + list(hog_features))\n",
    "        y.append(label)\n",
    "\n",
    "print(\"Extracción de características completada\")"
   ],
   "id": "e3861270bd9d2b44",
   "outputs": [
    {
     "name": "stdout",
     "output_type": "stream",
     "text": [
      "Procesando: AnnualCrop\n",
      "Procesando: Forest\n",
      "Procesando: HerbaceousVegetation\n",
      "Procesando: Highway\n",
      "Procesando: Industrial\n",
      "Procesando: Pasture\n",
      "Procesando: PermanentCrop\n",
      "Procesando: Residential\n",
      "Procesando: River\n",
      "Procesando: SeaLake\n",
      "Extracción de características completada\n"
     ]
    }
   ],
   "execution_count": 4
  },
  {
   "metadata": {
    "ExecuteTime": {
     "end_time": "2025-03-11T09:44:47.561429Z",
     "start_time": "2025-03-11T09:44:44.615792Z"
    }
   },
   "cell_type": "code",
   "source": [
    "# Convierte los datos en arrays\n",
    "X_haralick = np.array(X_haralick)\n",
    "X_hog = np.array(X_hog)\n",
    "X_combined = np.array(X_combined)\n",
    "y = np.array(y)"
   ],
   "id": "29b7d89856afb5ee",
   "outputs": [],
   "execution_count": 5
  },
  {
   "metadata": {
    "ExecuteTime": {
     "end_time": "2025-03-11T09:44:47.571597Z",
     "start_time": "2025-03-11T09:44:47.569410Z"
    }
   },
   "cell_type": "code",
   "source": [
    "# Función para entrenar y evaluar el modelo con diferentes características\n",
    "def train_and_evaluate(X, feature_name):\n",
    "    X_train, X_test, y_train, y_test = train_test_split(X, y, test_size=0.2, random_state=42)\n",
    "    print(f\"Entrenando con {feature_name}...\")\n",
    "    svm = SVC(kernel='linear')\n",
    "    svm.fit(X_train, y_train)\n",
    "    y_pred = svm.predict(X_test)\n",
    "    accuracy = accuracy_score(y_test, y_pred)\n",
    "    print(f\"Precisión con {feature_name}: {accuracy:.2f}\\n\")"
   ],
   "id": "35bfb8dfddb12564",
   "outputs": [],
   "execution_count": 6
  },
  {
   "metadata": {
    "ExecuteTime": {
     "end_time": "2025-03-11T10:00:36.530162Z",
     "start_time": "2025-03-11T09:44:47.588166Z"
    }
   },
   "cell_type": "code",
   "source": [
    "# Evaluar cada extractor de características\n",
    "train_and_evaluate(X_haralick, \"Haralick (GLCM)\")\n",
    "train_and_evaluate(X_hog, \"HOG\")\n",
    "train_and_evaluate(X_combined, \"Haralick + HOG\")"
   ],
   "id": "ec3bf12655b74c2d",
   "outputs": [
    {
     "name": "stdout",
     "output_type": "stream",
     "text": [
      "Entrenando con Haralick (GLCM)...\n",
      "Precisión con Haralick (GLCM): 0.68\n",
      "\n",
      "Entrenando con HOG...\n",
      "Precisión con HOG: 0.66\n",
      "\n",
      "Entrenando con Haralick + HOG...\n",
      "Precisión con Haralick + HOG: 0.74\n",
      "\n"
     ]
    }
   ],
   "execution_count": 7
  }
 ],
 "metadata": {
  "kernelspec": {
   "display_name": "Python 3",
   "language": "python",
   "name": "python3"
  },
  "language_info": {
   "codemirror_mode": {
    "name": "ipython",
    "version": 2
   },
   "file_extension": ".py",
   "mimetype": "text/x-python",
   "name": "python",
   "nbconvert_exporter": "python",
   "pygments_lexer": "ipython2",
   "version": "2.7.6"
  }
 },
 "nbformat": 4,
 "nbformat_minor": 5
}
