{
 "cells": [
  {
   "metadata": {},
   "cell_type": "markdown",
   "source": "## Imports y configuraciones",
   "id": "c1369fe858bd6380"
  },
  {
   "metadata": {},
   "cell_type": "code",
   "source": [
    "import os\n",
    "import shutil\n",
    "import cv2\n",
    "import kagglehub\n",
    "import matplotlib.pyplot as plt\n",
    "import numpy as np\n",
    "import pandas as pd\n",
    "import seaborn as sns\n",
    "import tensorflow as tf\n",
    "from collections import Counter\n",
    "from imblearn.over_sampling import SMOTE\n",
    "from skimage.feature import graycomatrix, graycoprops, hog, local_binary_pattern\n",
    "from sklearn.metrics import classification_report, confusion_matrix\n",
    "from sklearn.model_selection import learning_curve, train_test_split\n",
    "from sklearn.svm import SVC\n",
    "from tensorflow import keras\n",
    "from tensorflow.keras import layers\n",
    "from tensorflow.keras.applications import ResNet50\n",
    "from tensorflow.keras.layers import Conv2D, Dense, Dropout, Flatten, Input, MaxPooling2D\n",
    "from tensorflow.keras.models import Model, Sequential\n",
    "from tensorflow.keras.utils import to_categorical"
   ],
   "id": "411eda8f5d70c4ff",
   "outputs": [],
   "execution_count": null
  },
  {
   "metadata": {},
   "cell_type": "markdown",
   "source": "## Funciones auxiliares",
   "id": "1f36510dfef61bbd"
  },
  {
   "metadata": {},
   "cell_type": "code",
   "source": [
    "# Funciones auxiliares\n",
    "\n",
    "def plot_distribution(y, title):\n",
    "    \"\"\"\n",
    "    Muestra la distribución de clases en un gráfico de barras.\n",
    "\n",
    "    Parámetros:\n",
    "    - y: etiquetas de las clases\n",
    "    - title: título del gráfico\n",
    "    \"\"\"\n",
    "    counter = Counter(y)\n",
    "    print(f\"Distribución de clases ({title}):\", counter)\n",
    "\n",
    "    plt.figure(figsize=(10, 5))\n",
    "    sns.barplot(x=list(counter.keys()), y=list(counter.values()))\n",
    "    plt.xlabel(\"Clase\")\n",
    "    plt.ylabel(\"Cantidad de muestras\")\n",
    "    plt.title(title)\n",
    "    plt.xticks(rotation=0)\n",
    "    plt.show()\n",
    "\n",
    "\n",
    "def plot_confusion_matrix(y_true, y_pred, feature_name, label_map):\n",
    "    \"\"\"\n",
    "    Genera y muestra una matriz de confusión con etiquetas legibles.\n",
    "\n",
    "    Parámetros:\n",
    "    - y_true: etiquetas reales\n",
    "    - y_pred: etiquetas predichas\n",
    "    - feature_name: nombre del extractor de características usado\n",
    "    - label_map: diccionario de etiquetas de las clases\n",
    "    - title_suffix: texto adicional para el título (ej. \"antes de SMOTE\" o \"después de SMOTE\")\n",
    "    \"\"\"\n",
    "    cm = confusion_matrix(y_true, y_pred)\n",
    "\n",
    "    plt.figure(figsize=(8, 6))\n",
    "    sns.heatmap(cm, annot=True, fmt='d', cmap='Blues', xticklabels=label_map.values(), yticklabels=label_map.values())\n",
    "    plt.xlabel(\"Predicción\")\n",
    "    plt.ylabel(\"Real\")\n",
    "    plt.title(f\"Matriz de Confusión - {feature_name}\")\n",
    "    plt.show()\n",
    "\n",
    "\n",
    "def train_model(X, y):\n",
    "    \"\"\"\n",
    "    Entrena un modelo SVM con los datos proporcionados.\n",
    "\n",
    "    Parámetros:\n",
    "    - X: características de entrada\n",
    "    - y: etiquetas\n",
    "\n",
    "    Retorna:\n",
    "    - X_train, X_test, y_train, y_test, y_pred\n",
    "    \"\"\"\n",
    "    X_train, X_test, y_train, y_test = train_test_split(X, y, test_size=0.2, random_state=42)\n",
    "    svm = SVC(kernel='linear', class_weight='balanced')\n",
    "    svm.fit(X_train, y_train)\n",
    "    y_pred = svm.predict(X_test)\n",
    "    return X_train, X_test, y_train, y_test, y_pred\n",
    "\n",
    "\n",
    "# Ref. https://scikit-learn.org/stable/auto_examples/model_selection/plot_learning_curve.html\n",
    "def evaluate_model(y_test, y_pred, feature_name, X_train, y_train):\n",
    "    \"\"\"\n",
    "    Evalúa el modelo entrenado y muestra el reporte de clasificación junto con la curva de aprendizaje.\n",
    "\n",
    "    Parámetros:\n",
    "    - y_test: etiquetas reales\n",
    "    - y_pred: etiquetas predichas\n",
    "    - feature_name: nombre del extractor de características usado\n",
    "    - X_train: datos de entrenamiento\n",
    "    - y_train: etiquetas de entrenamiento\n",
    "    \"\"\"\n",
    "    print(f\"Resultados para {feature_name}:\")\n",
    "    print(classification_report(y_test, y_pred))\n",
    "\n",
    "    train_sizes, train_scores, test_scores = learning_curve(\n",
    "        # Analiza cómo varía la precisión al entrenar con diferentes cantidades de datos\n",
    "        SVC(kernel='linear', class_weight='balanced'),\n",
    "        X_train, y_train,\n",
    "        cv=5,\n",
    "        scoring='accuracy',\n",
    "        train_sizes=np.linspace(0.1, 1.0, 3),  # Reduce aún más el número de pruebas → [0.1, 0.55, 1.0]\n",
    "        n_jobs=-1  # Usa todos los núcleos disponibles de la CPU para paralelizar el cálculo\n",
    "    )\n",
    "\n",
    "    plt.figure(figsize=(8, 6))\n",
    "    plt.plot(train_sizes, train_scores.mean(axis=1), label=\"Entrenamiento\")\n",
    "    plt.plot(train_sizes, test_scores.mean(axis=1), label=\"Validación\")\n",
    "    plt.xlabel(\"Cantidad de Datos\")\n",
    "    plt.ylabel(\"Precisión\")\n",
    "    plt.legend()\n",
    "    plt.title(f\"Curva de Aprendizaje - {feature_name}\")\n",
    "    plt.show()\n",
    "\n",
    "\n",
    "# Crear el modelo ViT usando Keras\n",
    "def create_vit_model():\n",
    "    \"\"\"Modelo Vision Transformer simplificado en TensorFlow/Keras\"\"\"\n",
    "    inputs = keras.Input(shape=(IMG_SIZE, IMG_SIZE, 3))\n",
    "\n",
    "    # Convertir imagen en parches y proyectar\n",
    "    x = layers.Conv2D(64, (PATCH_SIZE, PATCH_SIZE), strides=(PATCH_SIZE, PATCH_SIZE), padding=\"valid\")(inputs)\n",
    "    x = layers.Reshape((-1, x.shape[-1]))(x)\n",
    "\n",
    "    # Aplicar Multi-Head Attention\n",
    "    x = layers.MultiHeadAttention(num_heads=8, key_dim=64)(x, x)\n",
    "    x = layers.LayerNormalization()(x)\n",
    "\n",
    "    # Aplanar y añadir capas densas\n",
    "    x = layers.Flatten()(x)\n",
    "    x = layers.Dense(128, activation=\"relu\")(x)\n",
    "    outputs = layers.Dense(NUM_CLASSES, activation=\"softmax\")(x)\n",
    "\n",
    "    return keras.Model(inputs, outputs)"
   ],
   "id": "a653d3dbd63ab033",
   "outputs": [],
   "execution_count": null
  },
  {
   "metadata": {},
   "cell_type": "markdown",
   "source": "## Carga del dataset",
   "id": "fc97319451c0d3e8"
  },
  {
   "metadata": {},
   "cell_type": "code",
   "source": [
    "# Ruta del dataset\n",
    "dataset_final_path = \"data/EuroSAT/\"\n",
    "train_csv_path = \"data/EuroSAT/train.csv\"\n",
    "\n",
    "# Descarga el dataset si no existe en la carpeta data\n",
    "if not os.path.exists(dataset_final_path):\n",
    "    print(\"Descargando el dataset...\")\n",
    "    download_path = kagglehub.dataset_download(\"apollo2506/eurosat-dataset\")\n",
    "\n",
    "    # Buscar la carpeta correcta dentro de la descarga\n",
    "    possible_folders = [\"EuroSAT\", \"EuroSATallBands\"]\n",
    "    original_path = None\n",
    "\n",
    "    for folder in possible_folders:\n",
    "        candidate_path = os.path.join(download_path, folder)\n",
    "        if os.path.exists(candidate_path):\n",
    "            original_path = candidate_path\n",
    "            break\n",
    "\n",
    "    # Si no se encontró la carpeta esperada, lanzar un error\n",
    "    if original_path is None:\n",
    "        print(f\"Error: No se encontró ninguna de las carpetas {possible_folders} dentro de {download_path}.\")\n",
    "        exit()\n",
    "\n",
    "    # Asegurar que la carpeta de destino exista\n",
    "    os.makedirs(os.path.dirname(dataset_final_path), exist_ok=True)\n",
    "\n",
    "    # Mover el dataset a la carpeta `data/EuroSAT/`\n",
    "    shutil.move(original_path, dataset_final_path)\n",
    "    print(f\"Dataset movido a: {dataset_final_path}\")\n",
    "else:\n",
    "    print(\"El dataset ya está descargado. No es necesario volver a descargarlo\")"
   ],
   "id": "ec10dec3933ec2b7",
   "outputs": [],
   "execution_count": null
  },
  {
   "metadata": {},
   "cell_type": "code",
   "source": [
    "# Cargar el archivo CSV con la lista de imágenes a usar\n",
    "df = pd.read_csv(train_csv_path)"
   ],
   "id": "e937cfa54416a02",
   "outputs": [],
   "execution_count": null
  },
  {
   "metadata": {},
   "cell_type": "code",
   "source": [
    "# Reduce el dataset seleccionando aleatoriamente un 50% de las filas\n",
    "# reduction_factor = 0.5  # Proporción del dataset a conservar\n",
    "# df = df.sample(frac=reduction_factor, random_state=42).reset_index(drop=True)\n",
    "# print(f\"Dataset reducido al {reduction_factor * 100}% del tamaño original\")"
   ],
   "id": "dc0ec2a37fffa155",
   "outputs": [],
   "execution_count": null
  },
  {
   "metadata": {},
   "cell_type": "code",
   "source": [
    "# Ver las primeras filas del CSV\n",
    "display(df.head())"
   ],
   "id": "9335fe63526aa7f7",
   "outputs": [],
   "execution_count": null
  },
  {
   "metadata": {},
   "cell_type": "code",
   "source": [
    "# Extraer nombres de archivo y etiquetas\n",
    "image_filenames = df[\"Filename\"].tolist()\n",
    "image_labels = df[\"Label\"].tolist()\n",
    "\n",
    "# Crear un diccionario para mapear etiquetas numéricas a nombres de clase\n",
    "label_map = dict(zip(df[\"ClassName\"].unique(), df[\"Label\"].unique()))\n",
    "\n",
    "print(\"Etiquetas:\", label_map)"
   ],
   "id": "2730657570933680",
   "outputs": [],
   "execution_count": null
  },
  {
   "metadata": {},
   "cell_type": "markdown",
   "source": "## Extracción de características, entrenamiento, evaluación y visualización de resultados de los modelos tradicionales",
   "id": "5e86d0103acf5cbf"
  },
  {
   "metadata": {},
   "cell_type": "code",
   "source": [
    "# Extracción de características Haralick, HOG y LBP de las imágenes\n",
    "\n",
    "# Ref. https://scikit-image.org/docs/stable/api/skimage.feature.html#skimage.feature.graycomatrix\n",
    "# Ref. https://scikit-image.org/docs/stable/api/skimage.feature.html#skimage.feature.graycoprops\n",
    "# Ref. https://medium.com/top-python-libraries/12-examples-of-image-texture-analysis-in-python-6cf7c179ada7\n",
    "# Ref. https://medium.com/@girishajmera/feature-extraction-of-images-using-glcm-gray-level-cooccurrence-matrix-e4bda8729498\n",
    "# Ref. https://medium.com/swlh/histogram-of-oriented-gradients-hog-for-multiclass-image-classification-and-image-recommendation-cf0ea2caaae8\n",
    "\n",
    "\n",
    "# Parámetros para calcular la matriz de co-ocurrencia de niveles de gris (GLCM)\n",
    "distances = [1]  # Distancia de 1 píxel entre los valores a comparar\n",
    "angles = [0]  # Ángulo de 0 grados (horizontal) para evaluar la textura\n",
    "\n",
    "X_haralick, X_hog, X_lbp, X_combined, y = [], [], [], [], []\n",
    "\n",
    "# Recorrer las imágenes listadas en train.csv\n",
    "for img_filename, label in zip(image_filenames, image_labels):\n",
    "    img_path = os.path.join(dataset_final_path, img_filename)\n",
    "\n",
    "    # Cargar la imagen en escala de grises\n",
    "    img = cv2.imread(img_path, cv2.IMREAD_GRAYSCALE)\n",
    "\n",
    "    # Si la imagen no se puede leer, se ignora\n",
    "    if img is None:\n",
    "        continue\n",
    "\n",
    "    # Calcula la matriz de co-ocurrencia de niveles de gris (GLCM)\n",
    "    glcm = graycomatrix(img, distances, angles, symmetric=True, normed=True)\n",
    "\n",
    "    # Extracción de características de Haralick\n",
    "    contrast = graycoprops(glcm, 'contrast')[0, 0]\n",
    "    dissimilarity = graycoprops(glcm, 'dissimilarity')[0, 0]\n",
    "    homogeneity = graycoprops(glcm, 'homogeneity')[0, 0]\n",
    "    energy = graycoprops(glcm, 'energy')[0, 0]\n",
    "    correlation = graycoprops(glcm, 'correlation')[0, 0]\n",
    "    asm = graycoprops(glcm, 'ASM')[0, 0]\n",
    "    haralick_features = [contrast, dissimilarity, homogeneity, energy, correlation, asm]\n",
    "\n",
    "    # Extracción de características usando el histograma de gradientes orientados (HOG)\n",
    "    hog_features = hog(img, pixels_per_cell=(8, 8), cells_per_block=(2, 2), feature_vector=True)\n",
    "\n",
    "    # Extracción de características usando Local Binary Patterns (LBP)\n",
    "    lbp_features = local_binary_pattern(img, P=8, R=1).flatten()\n",
    "\n",
    "    # Almacenar las características en listas separadas\n",
    "    X_haralick.append(haralick_features)\n",
    "    X_hog.append(list(hog_features))\n",
    "    X_lbp.append(list(lbp_features))\n",
    "    X_combined.append(haralick_features + list(hog_features) + list(lbp_features))\n",
    "    y.append(label)\n",
    "\n",
    "print(\"Extracción de características completada\")"
   ],
   "id": "9a9491b7780601d",
   "outputs": [],
   "execution_count": null
  },
  {
   "metadata": {},
   "cell_type": "code",
   "source": [
    "# Convierte los datos en arrays\n",
    "X_haralick = np.array(X_haralick)\n",
    "X_hog = np.array(X_hog)\n",
    "X_lbp = np.array(X_lbp)\n",
    "X_combined = np.array(X_combined)\n",
    "y = np.array(y)"
   ],
   "id": "5d8faba676a4ab76",
   "outputs": [],
   "execution_count": null
  },
  {
   "metadata": {},
   "cell_type": "code",
   "source": [
    "# Visualizar la distribución de clases antes de aplicar SMOTE\n",
    "plot_distribution(y, \"Distribución de Clases Antes de SMOTE\")"
   ],
   "id": "ec3bf12655b74c2d",
   "outputs": [],
   "execution_count": null
  },
  {
   "metadata": {},
   "cell_type": "code",
   "source": [
    "# Balanceo de clases con SMOTE\n",
    "smote = SMOTE(random_state=42)\n",
    "X_haralick_resampled, y_resampled = smote.fit_resample(X_haralick, y)\n",
    "X_hog_resampled, _ = smote.fit_resample(X_hog, y)\n",
    "X_lbp_resampled, _ = smote.fit_resample(X_lbp, y)\n",
    "X_combined_resampled, _ = smote.fit_resample(X_combined, y)"
   ],
   "id": "53b0c3a46221c013",
   "outputs": [],
   "execution_count": null
  },
  {
   "metadata": {},
   "cell_type": "code",
   "source": [
    "# Visualizar la distribución de clases después de aplicar SMOTE\n",
    "plot_distribution(y_resampled, \"Distribución de Clases Después de SMOTE\")"
   ],
   "id": "28c70e0eaa0f858c",
   "outputs": [],
   "execution_count": null
  },
  {
   "metadata": {
    "jupyter": {
     "is_executing": true
    }
   },
   "cell_type": "code",
   "source": [
    "# Entrenamiento y evaluación con Haralick (GLCM)\n",
    "X_train_haralick, X_test_haralick, y_train_haralick, y_test_haralick, y_pred_haralick = train_model(\n",
    "    X_haralick_resampled, y_resampled)\n",
    "\n",
    "evaluate_model(y_test_haralick, y_pred_haralick, \"Haralick (GLCM)\", X_train_haralick, y_train_haralick)"
   ],
   "id": "2815cf493f036a8d",
   "outputs": [],
   "execution_count": null
  },
  {
   "metadata": {},
   "cell_type": "code",
   "source": [
    "# Entrenamiento y evaluación con HOG\n",
    "X_train_hog, X_test_hog, y_train_hog, y_test_hog, y_pred_hog = train_model(\n",
    "    X_hog_resampled, y_resampled)\n",
    "\n",
    "evaluate_model(y_test_hog, y_pred_hog, \"HOG\", X_train_hog, y_train_hog)"
   ],
   "id": "3d926c8f36d3c0f3",
   "outputs": [],
   "execution_count": null
  },
  {
   "metadata": {},
   "cell_type": "code",
   "source": [
    "# Entrenamiento y evaluación con LBP\n",
    "X_train_lbp, X_test_lbp, y_train_lbp, y_test_lbp, y_pred_lbp = train_model(\n",
    "    X_lbp_resampled, y_resampled)\n",
    "\n",
    "evaluate_model(y_test_lbp, y_pred_lbp, \"LBP\", X_train_lbp, y_train_lbp)"
   ],
   "id": "62c9c35e2dda47fa",
   "outputs": [],
   "execution_count": null
  },
  {
   "metadata": {},
   "cell_type": "code",
   "source": [
    "# Entrenamiento y evaluación combinando todos los extractores de características\n",
    "X_train_combined, X_test_combined, y_train_combined, y_test_combined, y_pred_combined = train_model(\n",
    "    X_combined_resampled, y_resampled)\n",
    "\n",
    "evaluate_model(y_test_combined, y_pred_combined, \"Haralick + HOG + LBP\", X_train_combined, y_train_combined)"
   ],
   "id": "879bbefc819fd5a",
   "outputs": [],
   "execution_count": null
  },
  {
   "metadata": {},
   "cell_type": "code",
   "source": [
    "# Mostrar la matriz de confusión para Haralick (GLCM)\n",
    "plot_confusion_matrix(y_test_haralick, y_pred_haralick, \"Haralick (GLCM)\", label_map)"
   ],
   "id": "66b24b1d15cac3f7",
   "outputs": [],
   "execution_count": null
  },
  {
   "metadata": {},
   "cell_type": "code",
   "source": [
    "# Mostrar la matriz de confusión para HOG\n",
    "plot_confusion_matrix(y_test_hog, y_pred_hog, \"HOG\", label_map)"
   ],
   "id": "54d4fd9a2d803e3a",
   "outputs": [],
   "execution_count": null
  },
  {
   "metadata": {},
   "cell_type": "code",
   "source": [
    "# Mostrar la matriz de confusión para LBP\n",
    "plot_confusion_matrix(y_test_lbp, y_pred_lbp, \"LBP\", label_map)"
   ],
   "id": "a2a21b1f034457d7",
   "outputs": [],
   "execution_count": null
  },
  {
   "metadata": {},
   "cell_type": "code",
   "source": [
    "# Mostrar la matriz de confusión para la combinación de Haralick + HOG + LBP\n",
    "plot_confusion_matrix(y_test_combined, y_pred_combined, \"Haralick + HOG + LBP\", label_map)"
   ],
   "id": "9a0ff8ee4489303f",
   "outputs": [],
   "execution_count": null
  },
  {
   "metadata": {},
   "cell_type": "markdown",
   "source": "## Redes convolucionales (CNNs)",
   "id": "d4fda53256a4fe2f"
  },
  {
   "metadata": {},
   "cell_type": "code",
   "source": [
    "# Tamaño de las imágenes para la CNN\n",
    "IMG_SIZE = 64\n",
    "NUM_CLASSES = len(label_map)\n",
    "\n",
    "# Cargar imágenes y etiquetas en formato adecuado\n",
    "X = []\n",
    "y = []\n",
    "\n",
    "for img_filename, label in zip(image_filenames, image_labels):\n",
    "    img_path = os.path.join(dataset_final_path, img_filename)\n",
    "    img = cv2.imread(img_path)  # Mantener las imágenes en color (RGB)\n",
    "    if img is None:\n",
    "        continue\n",
    "    img = cv2.resize(img, (IMG_SIZE, IMG_SIZE))  # Redimensionar\n",
    "    img = img / 255.0  # Normalizar entre 0 y 1\n",
    "    X.append(img)\n",
    "    y.append(label)\n",
    "\n",
    "# Convertir a arrays de NumPy\n",
    "X = np.array(X)\n",
    "y = np.array(y)\n",
    "\n",
    "# One-hot encoding de las etiquetas\n",
    "y = to_categorical(y, num_classes=NUM_CLASSES)\n",
    "\n",
    "print(\"Carga de imágenes completada\")"
   ],
   "id": "80cee9a21472c75b",
   "outputs": [],
   "execution_count": null
  },
  {
   "metadata": {},
   "cell_type": "code",
   "source": [
    "# Definir la arquitectura de la CNN\n",
    "model = Sequential([\n",
    "    Input(shape=(IMG_SIZE, IMG_SIZE, 3)),  # Definir la forma de entrada aquí\n",
    "\n",
    "    Conv2D(32, (3, 3), activation='relu'),\n",
    "    MaxPooling2D(pool_size=(2, 2)),\n",
    "\n",
    "    Conv2D(64, (3, 3), activation='relu'),\n",
    "    MaxPooling2D(pool_size=(2, 2)),\n",
    "\n",
    "    Conv2D(128, (3, 3), activation='relu'),\n",
    "    MaxPooling2D(pool_size=(2, 2)),\n",
    "\n",
    "    Flatten(),\n",
    "    Dense(128, activation='relu'),\n",
    "    Dropout(0.5),  # Regularización para evitar overfitting\n",
    "    Dense(NUM_CLASSES, activation='softmax')  # Clasificación multiclase\n",
    "])\n",
    "\n",
    "# Compilar el modelo\n",
    "model.compile(optimizer='adam', loss='categorical_crossentropy', metrics=['accuracy'])\n",
    "\n",
    "# Mostrar la arquitectura del modelo\n",
    "model.summary()"
   ],
   "id": "bcc65b1302ce903c",
   "outputs": [],
   "execution_count": null
  },
  {
   "metadata": {},
   "cell_type": "code",
   "source": [
    "# Dividir los datos en conjunto de entrenamiento y prueba\n",
    "X_train, X_test, y_train, y_test = train_test_split(X, y, test_size=0.2, random_state=42)\n",
    "\n",
    "# Entrenar la CNN\n",
    "history = model.fit(X_train, y_train, epochs=50, batch_size=32, validation_data=(X_test, y_test))"
   ],
   "id": "cc477b77bd461a0a",
   "outputs": [],
   "execution_count": null
  },
  {
   "metadata": {},
   "cell_type": "code",
   "source": [
    "# Evaluar el modelo en el conjunto de prueba\n",
    "test_loss, test_acc = model.evaluate(X_test, y_test)\n",
    "print(f\"Precisión en test: {test_acc:.4f}\")"
   ],
   "id": "69975d4c20b00e68",
   "outputs": [],
   "execution_count": null
  },
  {
   "metadata": {},
   "cell_type": "code",
   "source": [
    "# Obtener los valores de accuracy\n",
    "epochs = range(1, len(history.history['accuracy']) + 1)  # Números de época\n",
    "\n",
    "# Crear la gráfica con puntos y líneas\n",
    "plt.figure(figsize=(8, 6))\n",
    "plt.plot(epochs, history.history['accuracy'], marker='o', linestyle='-', label='Entrenamiento')  # Línea + puntos\n",
    "plt.plot(epochs, history.history['val_accuracy'], marker='s', linestyle='-',\n",
    "         label='Validación')  # Cuadrados para validación\n",
    "\n",
    "# Agregar etiquetas y leyenda\n",
    "plt.xlabel(\"Épocas\")\n",
    "plt.ylabel(\"Precisión\")\n",
    "plt.title(\"Curva de aprendizaje - CNN con Puntos\")\n",
    "plt.legend()\n",
    "plt.grid(True, linestyle=\"--\", alpha=0.5)  # Cuadrícula más suave\n",
    "\n",
    "# Mostrar la gráfica\n",
    "plt.show()"
   ],
   "id": "bedbadad4d32a940",
   "outputs": [],
   "execution_count": null
  },
  {
   "metadata": {},
   "cell_type": "markdown",
   "source": "## ViT (Vision Transformers)",
   "id": "5d0b28bbd6791bd4"
  },
  {
   "metadata": {},
   "cell_type": "code",
   "source": [
    "# Parámetros del modelo\n",
    "IMG_SIZE = 64  # Tamaño de imagen de entrada\n",
    "PATCH_SIZE = 8  # Tamaño de los parches\n",
    "NUM_CLASSES = 10  # Número de clases (ajustar según el dataset)\n",
    "\n",
    "# Crear y compilar el modelo\n",
    "vit_model = create_vit_model()\n",
    "vit_model.compile(optimizer=\"adam\", loss=\"categorical_crossentropy\", metrics=[\"accuracy\"])\n",
    "\n",
    "# Mostrar resumen del modelo\n",
    "vit_model.summary()"
   ],
   "id": "d156b4b02847c47b",
   "outputs": [],
   "execution_count": null
  },
  {
   "metadata": {},
   "cell_type": "code",
   "source": [
    "# Entrenar el modelo ViT\n",
    "history_vit = vit_model.fit(X_train, y_train, epochs=50, batch_size=32, validation_data=(X_test, y_test))\n",
    "\n",
    "print(\"✅ Entrenamiento de ViT completado\")"
   ],
   "id": "73ee5e5a84330739",
   "outputs": [],
   "execution_count": null
  },
  {
   "metadata": {},
   "cell_type": "code",
   "source": [
    "# Evaluar el modelo ViT en test\n",
    "test_loss_vit, test_acc_vit = vit_model.evaluate(X_test, y_test)\n",
    "print(f\"✅ Precisión en test - ViT: {test_acc_vit:.4f}\")"
   ],
   "id": "a584daeff24a8916",
   "outputs": [],
   "execution_count": null
  },
  {
   "metadata": {},
   "cell_type": "code",
   "source": [
    "# Obtener los valores de accuracy para ViT\n",
    "epochs = range(1, len(history_vit.history['accuracy']) + 1)  # Números de época\n",
    "\n",
    "# Crear la gráfica con puntos y líneas\n",
    "plt.figure(figsize=(8, 6))\n",
    "plt.plot(epochs, history_vit.history['accuracy'], marker='o', linestyle='-', label='Entrenamiento')  # Línea + puntos\n",
    "plt.plot(epochs, history_vit.history['val_accuracy'], marker='s', linestyle='-',\n",
    "         label='Validación')  # Cuadrados para validación\n",
    "\n",
    "# Agregar etiquetas y leyenda\n",
    "plt.xlabel(\"Épocas\")\n",
    "plt.ylabel(\"Precisión\")\n",
    "plt.title(\"Curva de aprendizaje - ViT con Puntos\")\n",
    "plt.legend()\n",
    "plt.grid(True, linestyle=\"--\", alpha=0.5)  # Cuadrícula más suave\n",
    "\n",
    "# Mostrar la gráfica\n",
    "plt.show()"
   ],
   "id": "57a61eabc6b2e952",
   "outputs": [],
   "execution_count": null
  },
  {
   "metadata": {},
   "cell_type": "markdown",
   "source": "## ResNet50\n",
   "id": "3bb03449df263040"
  },
  {
   "metadata": {},
   "cell_type": "code",
   "source": [
    "# Definir la arquitectura de ResNet50 con pesos preentrenados en ImageNet\n",
    "base_model = ResNet50(weights=\"imagenet\", include_top=False, input_shape=(IMG_SIZE, IMG_SIZE, 3))\n",
    "\n",
    "# Congelar las capas del modelo base para reutilizar sus características\n",
    "base_model.trainable = False\n",
    "\n",
    "# Agregar capas personalizadas para ajustar el modelo a nuestro dataset\n",
    "x = Flatten()(base_model.output)  # Aplanar salida de ResNet\n",
    "x = Dense(128, activation=\"relu\")(x)  # Capa densa intermedia\n",
    "x = Dense(NUM_CLASSES, activation=\"softmax\")(x)  # Capa de salida para clasificación\n",
    "\n",
    "# Definir el modelo final\n",
    "resnet_model = Model(inputs=base_model.input, outputs=x)\n",
    "\n",
    "# Compilar el modelo\n",
    "resnet_model.compile(optimizer=\"adam\", loss=\"categorical_crossentropy\", metrics=[\"accuracy\"])\n",
    "\n",
    "# Mostrar la arquitectura\n",
    "resnet_model.summary()"
   ],
   "id": "ea6214b6e32fadae",
   "outputs": [],
   "execution_count": null
  },
  {
   "metadata": {},
   "cell_type": "code",
   "source": "history_resnet = resnet_model.fit(X_train, y_train, epochs=50, batch_size=32, validation_data=(X_test, y_test))",
   "id": "3f6183ed033845d",
   "outputs": [],
   "execution_count": null
  },
  {
   "metadata": {},
   "cell_type": "code",
   "source": [
    "test_loss, test_acc = resnet_model.evaluate(X_test, y_test)\n",
    "print(f\"Precisión en test (ResNet50): {test_acc:.4f}\")"
   ],
   "id": "bd31a070b3a13f3f",
   "outputs": [],
   "execution_count": null
  },
  {
   "metadata": {},
   "cell_type": "code",
   "source": [
    "# Obtener los valores de accuracy\n",
    "epochs = range(1, len(history_resnet.history['accuracy']) + 1)\n",
    "\n",
    "# Crear la gráfica con puntos y líneas\n",
    "plt.figure(figsize=(8, 6))\n",
    "plt.plot(epochs, history_resnet.history['accuracy'], marker='o', linestyle='-', label='Entrenamiento')\n",
    "plt.plot(epochs, history_resnet.history['val_accuracy'], marker='s', linestyle='-', label='Validación')\n",
    "\n",
    "# Agregar etiquetas y leyenda\n",
    "plt.xlabel(\"Épocas\")\n",
    "plt.ylabel(\"Precisión\")\n",
    "plt.title(\"Curva de aprendizaje - ResNet50 con Puntos\")\n",
    "plt.legend()\n",
    "plt.grid(True, linestyle=\"--\", alpha=0.5)\n",
    "\n",
    "# Mostrar la gráfica\n",
    "plt.show()"
   ],
   "id": "941bdf97fbb2304f",
   "outputs": [],
   "execution_count": null
  }
 ],
 "metadata": {
  "kernelspec": {
   "display_name": "Python 3",
   "language": "python",
   "name": "python3"
  },
  "language_info": {
   "codemirror_mode": {
    "name": "ipython",
    "version": 2
   },
   "file_extension": ".py",
   "mimetype": "text/x-python",
   "name": "python",
   "nbconvert_exporter": "python",
   "pygments_lexer": "ipython2",
   "version": "2.7.6"
  }
 },
 "nbformat": 4,
 "nbformat_minor": 5
}
