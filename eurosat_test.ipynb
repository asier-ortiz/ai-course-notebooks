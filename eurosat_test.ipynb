{
 "cells": [
  {
   "cell_type": "code",
   "id": "initial_id",
   "metadata": {
    "collapsed": true,
    "ExecuteTime": {
     "end_time": "2025-03-13T13:26:21.629825Z",
     "start_time": "2025-03-13T13:26:21.157913Z"
    }
   },
   "source": [
    "import kagglehub\n",
    "import shutil\n",
    "import os\n",
    "import cv2\n",
    "import json\n",
    "import numpy as np\n",
    "import matplotlib.pyplot as plt\n",
    "import seaborn as sns\n",
    "from skimage.feature import graycomatrix, graycoprops, hog, local_binary_pattern\n",
    "from sklearn.svm import SVC\n",
    "from sklearn.model_selection import train_test_split, learning_curve\n",
    "from sklearn.metrics import classification_report, confusion_matrix\n",
    "from collections import Counter\n",
    "from imblearn.over_sampling import SMOTE"
   ],
   "outputs": [],
   "execution_count": 1
  },
  {
   "metadata": {
    "ExecuteTime": {
     "end_time": "2025-03-13T13:26:21.635640Z",
     "start_time": "2025-03-13T13:26:21.633152Z"
    }
   },
   "cell_type": "code",
   "source": [
    "# Descarga el dataset si no existe en la carpeta data\n",
    "dataset_final_path = \"data/EuroSAT/\"\n",
    "\n",
    "if os.path.exists(dataset_final_path):\n",
    "    print(\"El dataset ya está descargado. No es necesario volver a descargarlo\")\n",
    "else:\n",
    "    print(\"Descargando el dataset...\")\n",
    "    download_path = kagglehub.dataset_download(\"apollo2506/eurosat-dataset\")\n",
    "    original_path = os.path.join(download_path, \"EuroSAT\")\n",
    "\n",
    "    # Verifica que la carpeta EuroSAT existe en el dataset descargado\n",
    "    if os.path.exists(original_path):\n",
    "        # Mueve la carpeta EuroSAT a data\n",
    "        shutil.move(original_path, dataset_final_path)\n",
    "        print(f\"Dataset movido a: {dataset_final_path}\")\n",
    "    else:\n",
    "        print(\"Error: No se encontró la carpeta EuroSAT dentro del dataset\")"
   ],
   "id": "3462d732513d2cf6",
   "outputs": [
    {
     "name": "stdout",
     "output_type": "stream",
     "text": [
      "El dataset ya está descargado. No es necesario volver a descargarlo\n"
     ]
    }
   ],
   "execution_count": 2
  },
  {
   "metadata": {
    "ExecuteTime": {
     "end_time": "2025-03-13T13:26:21.723972Z",
     "start_time": "2025-03-13T13:26:21.721132Z"
    }
   },
   "cell_type": "code",
   "source": [
    "# Mapeo de etiquetas desde el fichero label_map.json\n",
    "label_map_path = os.path.join(dataset_final_path, \"label_map.json\")\n",
    "\n",
    "with open(label_map_path, \"r\") as file:\n",
    "    label_map = json.load(file)\n",
    "\n",
    "print(\"Etiquetas:\", label_map)"
   ],
   "id": "a653d3dbd63ab033",
   "outputs": [
    {
     "name": "stdout",
     "output_type": "stream",
     "text": [
      "Etiquetas: {'AnnualCrop': 0, 'Forest': 1, 'HerbaceousVegetation': 2, 'Highway': 3, 'Industrial': 4, 'Pasture': 5, 'PermanentCrop': 6, 'Residential': 7, 'River': 8, 'SeaLake': 9}\n"
     ]
    }
   ],
   "execution_count": 3
  },
  {
   "metadata": {
    "ExecuteTime": {
     "end_time": "2025-03-13T13:27:29.721817Z",
     "start_time": "2025-03-13T13:26:21.728556Z"
    }
   },
   "cell_type": "code",
   "source": [
    "# Extracción de características Haralick, HOG y LBP de las imágenes\n",
    "\n",
    "# Ref. https://scikit-image.org/docs/stable/api/skimage.feature.html#skimage.feature.graycomatrix\n",
    "# Ref. https://scikit-image.org/docs/stable/api/skimage.feature.html#skimage.feature.graycoprops\n",
    "# Ref. https://medium.com/top-python-libraries/12-examples-of-image-texture-analysis-in-python-6cf7c179ada7\n",
    "# Ref. https://medium.com/@girishajmera/feature-extraction-of-images-using-glcm-gray-level-cooccurrence-matrix-e4bda8729498\n",
    "# Ref. https://medium.com/swlh/histogram-of-oriented-gradients-hog-for-multiclass-image-classification-and-image-recommendation-cf0ea2caaae8\n",
    "\n",
    "# Parámetros para calcular la matriz de co-ocurrencia de niveles de gris (GLCM)\n",
    "distances = [1]  # Distancia de 1 píxel entre los valores a comparar\n",
    "angles = [0]  # Ángulo de 0 grados (horizontal) para evaluar la textura\n",
    "\n",
    "X_haralick, X_hog, X_lbp, X_combined, y = [], [], [], [], []\n",
    "\n",
    "# Recorre todas las carpetas dentro del dataset\n",
    "for class_name, label in label_map.items():\n",
    "\n",
    "    class_path = os.path.join(dataset_final_path, class_name)\n",
    "\n",
    "    if not os.path.isdir(class_path):\n",
    "        continue  # Si no es una carpeta válida se ignora\n",
    "\n",
    "    print(f\"Procesando: {class_name}\")\n",
    "\n",
    "    # Recorre todas las imágenes dentro de la carpeta actual\n",
    "    for img_name in os.listdir(class_path):\n",
    "        img_path = os.path.join(class_path, img_name)\n",
    "\n",
    "        # Carga la imagen en escala de grises\n",
    "        img = cv2.imread(img_path, cv2.IMREAD_GRAYSCALE)\n",
    "\n",
    "        # Si la imagen no se puede leer se ignora\n",
    "        if img is None:\n",
    "            continue\n",
    "\n",
    "        # Calcula la matriz de co-ocurrencia de niveles de gris (GLCM)\n",
    "        glcm = graycomatrix(img, distances, angles, symmetric=True, normed=True)\n",
    "\n",
    "        # Extracción de características de Haralick\n",
    "        contrast = graycoprops(glcm, 'contrast')[0, 0]\n",
    "        dissimilarity = graycoprops(glcm, 'dissimilarity')[0, 0]\n",
    "        homogeneity = graycoprops(glcm, 'homogeneity')[0, 0]\n",
    "        energy = graycoprops(glcm, 'energy')[0, 0]\n",
    "        correlation = graycoprops(glcm, 'correlation')[0, 0]\n",
    "        asm = graycoprops(glcm, 'ASM')[0, 0]\n",
    "        haralick_features = [contrast, dissimilarity, homogeneity, energy, correlation, asm]\n",
    "\n",
    "        # Extracción de características usando el histograma de gradientes orientados (HOG)\n",
    "        hog_features = hog(img, pixels_per_cell=(8, 8), cells_per_block=(2, 2), feature_vector=True)\n",
    "\n",
    "        # Extracción de características usando Local Binary Patterns (LBP)\n",
    "        lbp_features = local_binary_pattern(img, P=8, R=1).flatten()\n",
    "\n",
    "        # Almaceno las características en listas separadas\n",
    "        X_haralick.append(haralick_features)\n",
    "        X_hog.append(list(hog_features))\n",
    "        X_lbp.append(list(lbp_features))\n",
    "        X_combined.append(haralick_features + list(hog_features) + list(lbp_features))\n",
    "        y.append(label)\n",
    "\n",
    "print(\"Extracción de características completada\")"
   ],
   "id": "e3861270bd9d2b44",
   "outputs": [
    {
     "name": "stdout",
     "output_type": "stream",
     "text": [
      "Procesando: AnnualCrop\n",
      "Procesando: Forest\n",
      "Procesando: HerbaceousVegetation\n",
      "Procesando: Highway\n",
      "Procesando: Industrial\n",
      "Procesando: Pasture\n",
      "Procesando: PermanentCrop\n",
      "Procesando: Residential\n",
      "Procesando: River\n",
      "Procesando: SeaLake\n",
      "Extracción de características completada\n"
     ]
    }
   ],
   "execution_count": 4
  },
  {
   "metadata": {
    "ExecuteTime": {
     "end_time": "2025-03-13T13:27:44.238283Z",
     "start_time": "2025-03-13T13:27:29.752438Z"
    }
   },
   "cell_type": "code",
   "source": [
    "# Convierte los datos en arrays\n",
    "X_haralick = np.array(X_haralick)\n",
    "X_hog = np.array(X_hog)\n",
    "X_lbp = np.array(X_lbp)\n",
    "X_combined = np.array(X_combined)\n",
    "y = np.array(y)"
   ],
   "id": "29b7d89856afb5ee",
   "outputs": [],
   "execution_count": 5
  },
  {
   "metadata": {
    "ExecuteTime": {
     "end_time": "2025-03-13T13:27:44.381055Z",
     "start_time": "2025-03-13T13:27:44.248620Z"
    }
   },
   "cell_type": "code",
   "source": [
    "# Visualizar la distribución de clases\n",
    "counter = Counter(y)\n",
    "print(\"Distribución de clases:\", counter)\n",
    "\n",
    "plt.figure(figsize=(10, 5))\n",
    "sns.barplot(x=list(counter.keys()), y=list(counter.values()))\n",
    "plt.xlabel(\"Clase\")\n",
    "plt.ylabel(\"Cantidad de muestras\")\n",
    "plt.title(\"Distribución de Clases\")\n",
    "plt.xticks(rotation=0)\n",
    "plt.show()"
   ],
   "id": "6e0071769ff791b1",
   "outputs": [
    {
     "name": "stdout",
     "output_type": "stream",
     "text": [
      "Distribución de clases: Counter({0: 3000, 1: 3000, 2: 3000, 7: 3000, 9: 3000, 3: 2500, 4: 2500, 6: 2500, 8: 2500, 5: 2000})\n"
     ]
    },
    {
     "data": {
      "text/plain": [
       "<Figure size 1000x500 with 1 Axes>"
      ],
      "image/png": "[encoded data removed]"
     },
     "metadata": {},
     "output_type": "display_data"
    }
   ],
   "execution_count": 6
  },
  {
   "metadata": {
    "ExecuteTime": {
     "end_time": "2025-03-13T13:27:48.821123Z",
     "start_time": "2025-03-13T13:27:44.393117Z"
    }
   },
   "cell_type": "code",
   "source": [
    "# Balanceo de clases con SMOTE\n",
    "smote = SMOTE(random_state=42)\n",
    "X_haralick_resampled, y_resampled = smote.fit_resample(X_haralick, y)\n",
    "X_hog_resampled, _ = smote.fit_resample(X_hog, y)\n",
    "X_lbp_resampled, _ = smote.fit_resample(X_lbp, y)\n",
    "X_combined_resampled, _ = smote.fit_resample(X_combined, y)"
   ],
   "id": "5d8faba676a4ab76",
   "outputs": [],
   "execution_count": 7
  },
  {
   "metadata": {
    "ExecuteTime": {
     "end_time": "2025-03-13T13:27:48.834162Z",
     "start_time": "2025-03-13T13:27:48.831964Z"
    }
   },
   "cell_type": "code",
   "source": [
    "# Función para entrenar el modelo con diferentes características\n",
    "def train_model(X, y):\n",
    "    X_train, X_test, y_train, y_test = train_test_split(X, y, test_size=0.2, random_state=42)\n",
    "    svm = SVC(kernel='linear', class_weight='balanced')\n",
    "    svm.fit(X_train, y_train)\n",
    "    y_pred = svm.predict(X_test)\n",
    "    return X_train, X_test, y_train, y_test, y_pred"
   ],
   "id": "35bfb8dfddb12564",
   "outputs": [],
   "execution_count": 8
  },
  {
   "metadata": {
    "ExecuteTime": {
     "end_time": "2025-03-13T17:39:46.810051Z",
     "start_time": "2025-03-13T17:39:46.807034Z"
    }
   },
   "cell_type": "code",
   "source": [
    "# Función para evaluar el modelo\n",
    "\n",
    "# Ref. https://scikit-learn.org/stable/auto_examples/model_selection/plot_learning_curve.html\n",
    "\n",
    "def evaluate_model(y_test, y_pred, feature_name, X_train, y_train):\n",
    "    print(f\"Resultados para {feature_name}:\")\n",
    "    print(classification_report(y_test, y_pred))\n",
    "\n",
    "    train_sizes, train_scores, test_scores = learning_curve( # Analiza cómo varía la precisión al entrenar con diferentes cantidades de datos\n",
    "        SVC(kernel='linear', class_weight='balanced'),\n",
    "        X_train, y_train,\n",
    "        # cv=3,\n",
    "        scoring='accuracy',\n",
    "        train_sizes=np.linspace(0.1, 1.0, 3),  # Reduce aún más el número de pruebas → [0.1, 0.55, 1.0]\n",
    "        n_jobs=-1  # Usa todos los núcleos disponibles de la CPU para paralelizar el cálculo\n",
    "    )\n",
    "\n",
    "    plt.figure(figsize=(8, 6))\n",
    "    plt.plot(train_sizes, train_scores.mean(axis=1), label=\"Entrenamiento\")\n",
    "    plt.plot(train_sizes, test_scores.mean(axis=1), label=\"Validación\")\n",
    "    plt.xlabel(\"Cantidad de Datos\")\n",
    "    plt.ylabel(\"Precisión\")\n",
    "    plt.legend()\n",
    "    plt.title(f\"Curva de Aprendizaje - {feature_name}\")\n",
    "    plt.show()"
   ],
   "id": "6913c74e474f66ad",
   "outputs": [],
   "execution_count": 15
  },
  {
   "metadata": {
    "ExecuteTime": {
     "end_time": "2025-03-13T13:31:22.354028Z",
     "start_time": "2025-03-13T13:27:48.853270Z"
    }
   },
   "cell_type": "code",
   "source": [
    "# Entrenamiento con Haralick (GLCM)\n",
    "X_train_haralick, X_test_haralick, y_train_haralick, y_test_haralick, y_pred_haralick = train_model(\n",
    "    X_haralick_resampled, y_resampled)"
   ],
   "id": "ec3bf12655b74c2d",
   "outputs": [],
   "execution_count": 10
  },
  {
   "metadata": {
    "ExecuteTime": {
     "end_time": "2025-03-13T13:34:52.350414Z",
     "start_time": "2025-03-13T13:31:22.451341Z"
    }
   },
   "cell_type": "code",
   "source": [
    "# Entrenamiento con HOG\n",
    "X_train_hog, X_test_hog, y_train_hog, y_test_hog, y_pred_hog = train_model(X_hog_resampled, y_resampled)"
   ],
   "id": "53b0c3a46221c013",
   "outputs": [],
   "execution_count": 11
  },
  {
   "metadata": {
    "ExecuteTime": {
     "end_time": "2025-03-13T13:53:21.612684Z",
     "start_time": "2025-03-13T13:34:52.361727Z"
    }
   },
   "cell_type": "code",
   "source": [
    "# Entrenamiento con LBP\n",
    "X_train_lbp, X_test_lbp, y_train_lbp, y_test_lbp, y_pred_lbp = train_model(X_lbp_resampled, y_resampled)"
   ],
   "id": "28c70e0eaa0f858c",
   "outputs": [],
   "execution_count": 12
  },
  {
   "metadata": {
    "ExecuteTime": {
     "end_time": "2025-03-13T14:14:17.506205Z",
     "start_time": "2025-03-13T13:53:21.671775Z"
    }
   },
   "cell_type": "code",
   "source": [
    "# Entrenamiento combinando todos los extractores de características\n",
    "X_train_combined, X_test_combined, y_train_combined, y_test_combined, y_pred_combined = train_model(\n",
    "    X_combined_resampled, y_resampled)"
   ],
   "id": "2815cf493f036a8d",
   "outputs": [],
   "execution_count": 13
  },
  {
   "metadata": {
    "jupyter": {
     "is_executing": true
    },
    "ExecuteTime": {
     "start_time": "2025-03-13T17:39:51.949208Z"
    }
   },
   "cell_type": "code",
   "source": [
    "# Evaluación de Haralick (GLCM)\n",
    "evaluate_model(y_test_haralick, y_pred_haralick, \"Haralick (GLCM)\", X_train_haralick, y_train_haralick)"
   ],
   "id": "3d926c8f36d3c0f3",
   "outputs": [
    {
     "name": "stdout",
     "output_type": "stream",
     "text": [
      "Resultados para Haralick (GLCM):\n",
      "              precision    recall  f1-score   support\n",
      "\n",
      "           0       0.61      0.74      0.67       567\n",
      "           1       0.88      0.88      0.88       612\n",
      "           2       0.51      0.51      0.51       609\n",
      "           3       0.42      0.23      0.30       629\n",
      "           4       0.82      0.90      0.86       605\n",
      "           5       0.58      0.70      0.64       606\n",
      "           6       0.42      0.53      0.47       565\n",
      "           7       0.85      0.91      0.88       595\n",
      "           8       0.71      0.43      0.53       594\n",
      "           9       0.95      0.97      0.96       618\n",
      "\n",
      "    accuracy                           0.68      6000\n",
      "   macro avg       0.67      0.68      0.67      6000\n",
      "weighted avg       0.68      0.68      0.67      6000\n",
      "\n"
     ]
    }
   ],
   "execution_count": null
  },
  {
   "metadata": {},
   "cell_type": "code",
   "source": [
    "# Evaluación de HOG\n",
    "# evaluate_model(y_test_hog, y_pred_hog, \"HOG\", X_train_hog, y_resampled)"
   ],
   "id": "62c9c35e2dda47fa",
   "outputs": [],
   "execution_count": null
  },
  {
   "metadata": {},
   "cell_type": "code",
   "source": [
    "# Evaluación de LBP\n",
    "# evaluate_model(y_test_lbp, y_pred_lbp, \"LBP\", X_train_lbp, y_resampled)"
   ],
   "id": "879bbefc819fd5a",
   "outputs": [],
   "execution_count": null
  },
  {
   "metadata": {},
   "cell_type": "code",
   "source": [
    "# Evaluación combinada de todos los extractores de características\n",
    "# evaluate_model(y_test_combined, y_pred_combined, \"Haralick + HOG + LBP\", X_train_combined, y_resampled)"
   ],
   "id": "66b24b1d15cac3f7",
   "outputs": [],
   "execution_count": null
  }
 ],
 "metadata": {
  "kernelspec": {
   "display_name": "Python 3",
   "language": "python",
   "name": "python3"
  },
  "language_info": {
   "codemirror_mode": {
    "name": "ipython",
    "version": 2
   },
   "file_extension": ".py",
   "mimetype": "text/x-python",
   "name": "python",
   "nbconvert_exporter": "python",
   "pygments_lexer": "ipython2",
   "version": "2.7.6"
  }
 },
 "nbformat": 4,
 "nbformat_minor": 5
}
