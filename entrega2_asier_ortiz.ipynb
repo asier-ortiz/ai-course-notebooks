{
 "cells": [
  {
   "metadata": {
    "ExecuteTime": {
     "end_time": "2025-02-24T11:44:58.708465Z",
     "start_time": "2025-02-24T11:44:58.705614Z"
    }
   },
   "cell_type": "code",
   "source": [
    "# TODO: Mejoras para este ejercicio:\n",
    "# - Asegurar que los datos sean consistentes: si hay valores erróneos o nulos, establecer un random_state para garantizar reproducibilidad\n",
    "# - Implementar pipelines para estructurar mejor el flujo de preprocesamiento y modelado, evitando la aplicación manual de cada paso\n",
    "# - Optimizar el modelo ajustando hiperparámetros con técnicas como GridSearchCV o RandomizedSearchCV\n",
    "# - Utilizar Regex para validaciones: códigos postales, teléfonos, emails, etc.\n",
    "# - Crear variables derivadas como precio por metro cuadrado (precio_m2 = precio / superficie)\n",
    "# - Geolocalización: obtener coordenadas con OpenStreetMap a partir de direcciones o códigos postales y utilizarlas para análisis espaciales\n",
    "# - Visualizar las viviendas en un mapa interactivo con Folium o Plotly Express para identificar patrones geográficos en los precios\n",
    "# - Clusterización de zonas con K-Means o DBSCAN para detectar patrones de precios por ubicación y segmentar mejor los inmuebles\n",
    "# - Evitar data leakage: Dividir los datos en train/test antes de hacer encoding, eliminar outliers o escalar,\n",
    "#   asegurando que las transformaciones se ajusten sólo con el conjunto de entrenamiento y luego se apliquen en test\n",
    "# - Subir el proyecto final a Kaggle"
   ],
   "id": "be40bb5aac5b5e3f",
   "outputs": [],
   "execution_count": 160
  },
  {
   "metadata": {},
   "cell_type": "markdown",
   "source": [
    "## 1 - Carga de datos y revisión de la estructura del dataset\n",
    "\n",
    "En este apartado se realiza una **primera exploración del dataset** para comprender su estructura, tipo de variables y posibles relaciones entre ellas. Este paso es fundamental para la correcta preparación de los datos antes del modelado.\n",
    "\n",
    "### **1.1 - Importación de librerías y configuración**\n",
    "Se importan las librerías esenciales para el análisis de datos, la visualización y el modelado, incluyendo **Pandas, NumPy, Matplotlib, Seaborn, SciPy y Scikit-Learn**. Además, se configuran algunos parámetros globales de visualización para mejorar la legibilidad de los gráficos.\n",
    "\n",
    "### **1.2 - Carga del dataset**\n",
    "Se carga el conjunto de datos en un **DataFrame de Pandas** desde un archivo CSV. Se incluye una referencia a la fuente del dataset.\n",
    "\n",
    "### **1.3 - Examinar la estructura del dataset**\n",
    "En esta fase se inspecciona la estructura general del dataset para entender su contenido y formato:\n",
    "\n",
    "- **Visualización de las primeras y últimas filas** para detectar posibles errores en la carga de los datos.\n",
    "- **Información general del dataset** (`df.info()`), que muestra el número de registros, tipos de datos y valores nulos.\n",
    "- **Número total de filas y columnas** (`df.shape`).\n",
    "- **Identificación de columnas numéricas y categóricas**, que ayudará en el preprocesamiento.\n",
    "- **Recuento de valores únicos en variables categóricas**, útil para evaluar su diversidad.\n",
    "- **Resumen estadístico de las variables numéricas**, para analizar su distribución, detectar valores atípicos y entender la escala de los datos.\n",
    "\n",
    "### **1.4 - Comprobación de relaciones potenciales**\n",
    "Para evaluar la viabilidad del modelado, se analizan las correlaciones entre variables numéricas:\n",
    "\n",
    "- Se genera una **matriz de correlación** (`df.corr()`) para medir la relación entre variables.\n",
    "- Se identifican **las variables con mayor impacto en `price`** basándose en la correlación:\n",
    "  - `floor_built` (0.70)\n",
    "  - `floor_area` (0.72)\n",
    "  - `bedrooms` (0.51)\n",
    "  - `bathrooms` (0.69)\n",
    "- Se confirma la pertinencia de `balcony` como una **variable categórica de clasificación**, revisando la distribución de sus valores.\n"
   ],
   "id": "f207b07e6af43aa1"
  },
  {
   "metadata": {},
   "cell_type": "markdown",
   "source": "### 1.1 - Importación de librerías y otras configuraciones",
   "id": "68947ca93b1ee80d"
  },
  {
   "metadata": {
    "ExecuteTime": {
     "end_time": "2025-02-24T11:44:58.727694Z",
     "start_time": "2025-02-24T11:44:58.724160Z"
    }
   },
   "cell_type": "code",
   "source": [
    "# Cargar las librerías necesarias\n",
    "import numpy as np\n",
    "import pandas as pd\n",
    "import matplotlib.pyplot as plt\n",
    "import seaborn as sns\n",
    "import scipy.stats as stats\n",
    "from sklearn.model_selection import train_test_split\n",
    "from sklearn.preprocessing import StandardScaler, MinMaxScaler, RobustScaler, LabelEncoder, OneHotEncoder\n",
    "import tensorflow as tf\n",
    "import folium\n",
    "from geopy.distance import geodesic\n",
    "\n",
    "# Configuraciones\n",
    "%matplotlib inline\n",
    "sns.set_theme(style=\"whitegrid\", palette=\"viridis\", font_scale=1.1)"
   ],
   "id": "cae123131f2ff1e3",
   "outputs": [],
   "execution_count": 161
  },
  {
   "metadata": {},
   "cell_type": "markdown",
   "source": "### 1.2 - Carga del dataset",
   "id": "642fbdc3166ffe7a"
  },
  {
   "metadata": {
    "ExecuteTime": {
     "end_time": "2025-02-24T11:44:58.770594Z",
     "start_time": "2025-02-24T11:44:58.731343Z"
    }
   },
   "cell_type": "code",
   "source": [
    "# Cargar el dataset local con Pandas\n",
    "df = pd.read_csv(\"scripts/madrid_rent_with_coordinates.csv\")\n",
    "\n",
    "# Ref. https://www.kaggle.com/datasets/mapecode/madrid-province-rent-data"
   ],
   "id": "57f78ce23e88ed17",
   "outputs": [],
   "execution_count": 162
  },
  {
   "metadata": {},
   "cell_type": "markdown",
   "source": "### 1.3 - Examinar la estructura del dataset",
   "id": "dc595c93d116a8f9"
  },
  {
   "metadata": {
    "ExecuteTime": {
     "end_time": "2025-02-24T11:44:58.785257Z",
     "start_time": "2025-02-24T11:44:58.778759Z"
    }
   },
   "cell_type": "code",
   "source": [
    "# Mostrar las primeras filas para una vista inicial del dataset\n",
    "print(\"Primeras filas del dataset:\")\n",
    "display(df.head())"
   ],
   "id": "a652c94054a75007",
   "outputs": [
    {
     "name": "stdout",
     "output_type": "stream",
     "text": [
      "Primeras filas del dataset:\n"
     ]
    },
    {
     "data": {
      "text/plain": [
       "     web_id                                              url  \\\n",
       "0  99440018  https://www.idealista.com/en/inmueble/99440018/   \n",
       "1  99440827  https://www.idealista.com/en/inmueble/99440827/   \n",
       "2  97689853  https://www.idealista.com/en/inmueble/97689853/   \n",
       "3  97689852  https://www.idealista.com/en/inmueble/97689852/   \n",
       "4  99399876  https://www.idealista.com/en/inmueble/99399876/   \n",
       "\n",
       "                                               title    type  price  deposit  \\\n",
       "0               Studio flat for rent in luis cabrera  Studio    650      1.0   \n",
       "1  Flat / apartment for rent in calle de Pastora ...    Flat   1750      NaN   \n",
       "2  Flat / apartment for rent in calle de Gabriel ...    Flat   1490      NaN   \n",
       "3  Flat / apartment for rent in calle de Gabriel ...    Flat    900      NaN   \n",
       "4               Flat / apartment for rent in El Viso    Flat    950      NaN   \n",
       "\n",
       "   private_owner    professional_name  floor_built  floor_area  ... storeroom  \\\n",
       "0          False  Madrid en Propiedad           30         NaN  ...     False   \n",
       "1          False     PUBLICASA MADRID          148         NaN  ...     False   \n",
       "2          False             roomless           65        55.0  ...     False   \n",
       "3          False             roomless           50        40.0  ...     False   \n",
       "4          False            Spotahome           28        24.0  ...     False   \n",
       "\n",
       "   swimming_pool garden_area  \\\n",
       "0          False       False   \n",
       "1           True       False   \n",
       "2          False       False   \n",
       "3          False       False   \n",
       "4          False       False   \n",
       "\n",
       "                                            location   district  subdistrict  \\\n",
       "0  luis cabrera, Subdistrict Prosperidad, Distric...  Chamartín  Prosperidad   \n",
       "1  Calle de Pastora Imperio, Subdistrict Castilla...  Chamartín     Castilla   \n",
       "2  Calle de Gabriel Lobo, 20, Subdistrict El Viso...  Chamartín      El Viso   \n",
       "3  Calle de Gabriel Lobo, 20, Subdistrict El Viso...  Chamartín      El Viso   \n",
       "4  , Subdistrict El Viso, District Chamartín, Mad...  Chamartín      El Viso   \n",
       "\n",
       "   postalcode  last_update        lat       lng  \n",
       "0     28002.0   7 November  40.444750 -3.671574  \n",
       "1     28036.0   7 November  40.481725 -3.674384  \n",
       "2     28002.0   5 November  40.443449 -3.679917  \n",
       "3     28002.0   5 November  40.443449 -3.679917  \n",
       "4         NaN   6 November  40.449021 -3.686681  \n",
       "\n",
       "[5 rows x 34 columns]"
      ],
      "text/html": [
       "<div>\n",
       "<style scoped>\n",
       "    .dataframe tbody tr th:only-of-type {\n",
       "        vertical-align: middle;\n",
       "    }\n",
       "\n",
       "    .dataframe tbody tr th {\n",
       "        vertical-align: top;\n",
       "    }\n",
       "\n",
       "    .dataframe thead th {\n",
       "        text-align: right;\n",
       "    }\n",
       "</style>\n",
       "<table border=\"1\" class=\"dataframe\">\n",
       "  <thead>\n",
       "    <tr style=\"text-align: right;\">\n",
       "      <th></th>\n",
       "      <th>web_id</th>\n",
       "      <th>url</th>\n",
       "      <th>title</th>\n",
       "      <th>type</th>\n",
       "      <th>price</th>\n",
       "      <th>deposit</th>\n",
       "      <th>private_owner</th>\n",
       "      <th>professional_name</th>\n",
       "      <th>floor_built</th>\n",
       "      <th>floor_area</th>\n",
       "      <th>...</th>\n",
       "      <th>storeroom</th>\n",
       "      <th>swimming_pool</th>\n",
       "      <th>garden_area</th>\n",
       "      <th>location</th>\n",
       "      <th>district</th>\n",
       "      <th>subdistrict</th>\n",
       "      <th>postalcode</th>\n",
       "      <th>last_update</th>\n",
       "      <th>lat</th>\n",
       "      <th>lng</th>\n",
       "    </tr>\n",
       "  </thead>\n",
       "  <tbody>\n",
       "    <tr>\n",
       "      <th>0</th>\n",
       "      <td>99440018</td>\n",
       "      <td>https://www.idealista.com/en/inmueble/99440018/</td>\n",
       "      <td>Studio flat for rent in luis cabrera</td>\n",
       "      <td>Studio</td>\n",
       "      <td>650</td>\n",
       "      <td>1.0</td>\n",
       "      <td>False</td>\n",
       "      <td>Madrid en Propiedad</td>\n",
       "      <td>30</td>\n",
       "      <td>NaN</td>\n",
       "      <td>...</td>\n",
       "      <td>False</td>\n",
       "      <td>False</td>\n",
       "      <td>False</td>\n",
       "      <td>luis cabrera, Subdistrict Prosperidad, Distric...</td>\n",
       "      <td>Chamartín</td>\n",
       "      <td>Prosperidad</td>\n",
       "      <td>28002.0</td>\n",
       "      <td>7 November</td>\n",
       "      <td>40.444750</td>\n",
       "      <td>-3.671574</td>\n",
       "    </tr>\n",
       "    <tr>\n",
       "      <th>1</th>\n",
       "      <td>99440827</td>\n",
       "      <td>https://www.idealista.com/en/inmueble/99440827/</td>\n",
       "      <td>Flat / apartment for rent in calle de Pastora ...</td>\n",
       "      <td>Flat</td>\n",
       "      <td>1750</td>\n",
       "      <td>NaN</td>\n",
       "      <td>False</td>\n",
       "      <td>PUBLICASA MADRID</td>\n",
       "      <td>148</td>\n",
       "      <td>NaN</td>\n",
       "      <td>...</td>\n",
       "      <td>False</td>\n",
       "      <td>True</td>\n",
       "      <td>False</td>\n",
       "      <td>Calle de Pastora Imperio, Subdistrict Castilla...</td>\n",
       "      <td>Chamartín</td>\n",
       "      <td>Castilla</td>\n",
       "      <td>28036.0</td>\n",
       "      <td>7 November</td>\n",
       "      <td>40.481725</td>\n",
       "      <td>-3.674384</td>\n",
       "    </tr>\n",
       "    <tr>\n",
       "      <th>2</th>\n",
       "      <td>97689853</td>\n",
       "      <td>https://www.idealista.com/en/inmueble/97689853/</td>\n",
       "      <td>Flat / apartment for rent in calle de Gabriel ...</td>\n",
       "      <td>Flat</td>\n",
       "      <td>1490</td>\n",
       "      <td>NaN</td>\n",
       "      <td>False</td>\n",
       "      <td>roomless</td>\n",
       "      <td>65</td>\n",
       "      <td>55.0</td>\n",
       "      <td>...</td>\n",
       "      <td>False</td>\n",
       "      <td>False</td>\n",
       "      <td>False</td>\n",
       "      <td>Calle de Gabriel Lobo, 20, Subdistrict El Viso...</td>\n",
       "      <td>Chamartín</td>\n",
       "      <td>El Viso</td>\n",
       "      <td>28002.0</td>\n",
       "      <td>5 November</td>\n",
       "      <td>40.443449</td>\n",
       "      <td>-3.679917</td>\n",
       "    </tr>\n",
       "    <tr>\n",
       "      <th>3</th>\n",
       "      <td>97689852</td>\n",
       "      <td>https://www.idealista.com/en/inmueble/97689852/</td>\n",
       "      <td>Flat / apartment for rent in calle de Gabriel ...</td>\n",
       "      <td>Flat</td>\n",
       "      <td>900</td>\n",
       "      <td>NaN</td>\n",
       "      <td>False</td>\n",
       "      <td>roomless</td>\n",
       "      <td>50</td>\n",
       "      <td>40.0</td>\n",
       "      <td>...</td>\n",
       "      <td>False</td>\n",
       "      <td>False</td>\n",
       "      <td>False</td>\n",
       "      <td>Calle de Gabriel Lobo, 20, Subdistrict El Viso...</td>\n",
       "      <td>Chamartín</td>\n",
       "      <td>El Viso</td>\n",
       "      <td>28002.0</td>\n",
       "      <td>5 November</td>\n",
       "      <td>40.443449</td>\n",
       "      <td>-3.679917</td>\n",
       "    </tr>\n",
       "    <tr>\n",
       "      <th>4</th>\n",
       "      <td>99399876</td>\n",
       "      <td>https://www.idealista.com/en/inmueble/99399876/</td>\n",
       "      <td>Flat / apartment for rent in El Viso</td>\n",
       "      <td>Flat</td>\n",
       "      <td>950</td>\n",
       "      <td>NaN</td>\n",
       "      <td>False</td>\n",
       "      <td>Spotahome</td>\n",
       "      <td>28</td>\n",
       "      <td>24.0</td>\n",
       "      <td>...</td>\n",
       "      <td>False</td>\n",
       "      <td>False</td>\n",
       "      <td>False</td>\n",
       "      <td>, Subdistrict El Viso, District Chamartín, Mad...</td>\n",
       "      <td>Chamartín</td>\n",
       "      <td>El Viso</td>\n",
       "      <td>NaN</td>\n",
       "      <td>6 November</td>\n",
       "      <td>40.449021</td>\n",
       "      <td>-3.686681</td>\n",
       "    </tr>\n",
       "  </tbody>\n",
       "</table>\n",
       "<p>5 rows × 34 columns</p>\n",
       "</div>"
      ]
     },
     "metadata": {},
     "output_type": "display_data"
    }
   ],
   "execution_count": 163
  },
  {
   "metadata": {
    "ExecuteTime": {
     "end_time": "2025-02-24T11:44:58.800464Z",
     "start_time": "2025-02-24T11:44:58.793475Z"
    }
   },
   "cell_type": "code",
   "source": [
    "# Mostrar las últimas filas para identificar posibles problemas en la carga de datos\n",
    "print(\"Últimas filas del dataset:\")\n",
    "display(df.tail())"
   ],
   "id": "b29d30b31ad16871",
   "outputs": [
    {
     "name": "stdout",
     "output_type": "stream",
     "text": [
      "Últimas filas del dataset:\n"
     ]
    },
    {
     "data": {
      "text/plain": [
       "        web_id                                              url  \\\n",
       "9224  99283228  https://www.idealista.com/en/inmueble/99283228/   \n",
       "9225  99377540  https://www.idealista.com/en/inmueble/99377540/   \n",
       "9226  95831170  https://www.idealista.com/en/inmueble/95831170/   \n",
       "9227  99405352  https://www.idealista.com/en/inmueble/99405352/   \n",
       "9228   2139592   https://www.idealista.com/en/inmueble/2139592/   \n",
       "\n",
       "                                                  title  type  price  deposit  \\\n",
       "9224  Flat / apartment for rent in calle Jerez de lo...  Flat    950      1.0   \n",
       "9225      Flat / apartment for rent in Alameda de Osuna  Flat   1800      1.0   \n",
       "9226               Flat / apartment for rent in Góndola  Flat   1350      1.0   \n",
       "9227           Flat / apartment for rent in calle Timón  Flat    850      NaN   \n",
       "9228    Flat / apartment for rent in calle Bariloche, 1  Flat    950      1.0   \n",
       "\n",
       "      private_owner                professional_name  floor_built  floor_area  \\\n",
       "9224          False  EL PORTAL, GESTIÓN INMOBILIARIA           64         NaN   \n",
       "9225          False           Engel & Völkers Madrid          138       118.0   \n",
       "9226          False         Alquilar y Vender Madrid          114       104.0   \n",
       "9227          False                          Redpiso           64        51.0   \n",
       "9228           True                              NaN           70         NaN   \n",
       "\n",
       "      ... storeroom  swimming_pool garden_area  \\\n",
       "9224  ...     False          False       False   \n",
       "9225  ...      True          False       False   \n",
       "9226  ...     False           True       False   \n",
       "9227  ...     False          False       False   \n",
       "9228  ...      True           True       False   \n",
       "\n",
       "                                               location  district  \\\n",
       "9224  Calle Jerez de los Caballeros, 5, Subdistrict ...   Barajas   \n",
       "9225  , Subdistrict Alameda de Osuna, District Baraj...   Barajas   \n",
       "9226  Góndola, Subdistrict Alameda de Osuna, Distric...   Barajas   \n",
       "9227  Calle Timón, Subdistrict Timón, District Baraj...   Barajas   \n",
       "9228  Calle Bariloche, 1, Urb. puerta coronales, Sub...   Barajas   \n",
       "\n",
       "                           subdistrict  postalcode  last_update        lat  \\\n",
       "9224        Casco Histórico de Barajas     28042.0   23 October  40.465370   \n",
       "9225                  Alameda de Osuna     28042.0   5 November  40.456178   \n",
       "9226                  Alameda de Osuna     28042.0   3 November  40.453432   \n",
       "9227                             Timón     28042.0   3 November  40.472818   \n",
       "9228  Campo de las Naciones-Corralejos     28042.0   3 November  40.467742   \n",
       "\n",
       "           lng  \n",
       "9224 -3.595152  \n",
       "9225 -3.594880  \n",
       "9226 -3.589196  \n",
       "9227 -3.585470  \n",
       "9228 -3.590706  \n",
       "\n",
       "[5 rows x 34 columns]"
      ],
      "text/html": [
       "<div>\n",
       "<style scoped>\n",
       "    .dataframe tbody tr th:only-of-type {\n",
       "        vertical-align: middle;\n",
       "    }\n",
       "\n",
       "    .dataframe tbody tr th {\n",
       "        vertical-align: top;\n",
       "    }\n",
       "\n",
       "    .dataframe thead th {\n",
       "        text-align: right;\n",
       "    }\n",
       "</style>\n",
       "<table border=\"1\" class=\"dataframe\">\n",
       "  <thead>\n",
       "    <tr style=\"text-align: right;\">\n",
       "      <th></th>\n",
       "      <th>web_id</th>\n",
       "      <th>url</th>\n",
       "      <th>title</th>\n",
       "      <th>type</th>\n",
       "      <th>price</th>\n",
       "      <th>deposit</th>\n",
       "      <th>private_owner</th>\n",
       "      <th>professional_name</th>\n",
       "      <th>floor_built</th>\n",
       "      <th>floor_area</th>\n",
       "      <th>...</th>\n",
       "      <th>storeroom</th>\n",
       "      <th>swimming_pool</th>\n",
       "      <th>garden_area</th>\n",
       "      <th>location</th>\n",
       "      <th>district</th>\n",
       "      <th>subdistrict</th>\n",
       "      <th>postalcode</th>\n",
       "      <th>last_update</th>\n",
       "      <th>lat</th>\n",
       "      <th>lng</th>\n",
       "    </tr>\n",
       "  </thead>\n",
       "  <tbody>\n",
       "    <tr>\n",
       "      <th>9224</th>\n",
       "      <td>99283228</td>\n",
       "      <td>https://www.idealista.com/en/inmueble/99283228/</td>\n",
       "      <td>Flat / apartment for rent in calle Jerez de lo...</td>\n",
       "      <td>Flat</td>\n",
       "      <td>950</td>\n",
       "      <td>1.0</td>\n",
       "      <td>False</td>\n",
       "      <td>EL PORTAL, GESTIÓN INMOBILIARIA</td>\n",
       "      <td>64</td>\n",
       "      <td>NaN</td>\n",
       "      <td>...</td>\n",
       "      <td>False</td>\n",
       "      <td>False</td>\n",
       "      <td>False</td>\n",
       "      <td>Calle Jerez de los Caballeros, 5, Subdistrict ...</td>\n",
       "      <td>Barajas</td>\n",
       "      <td>Casco Histórico de Barajas</td>\n",
       "      <td>28042.0</td>\n",
       "      <td>23 October</td>\n",
       "      <td>40.465370</td>\n",
       "      <td>-3.595152</td>\n",
       "    </tr>\n",
       "    <tr>\n",
       "      <th>9225</th>\n",
       "      <td>99377540</td>\n",
       "      <td>https://www.idealista.com/en/inmueble/99377540/</td>\n",
       "      <td>Flat / apartment for rent in Alameda de Osuna</td>\n",
       "      <td>Flat</td>\n",
       "      <td>1800</td>\n",
       "      <td>1.0</td>\n",
       "      <td>False</td>\n",
       "      <td>Engel &amp; Völkers Madrid</td>\n",
       "      <td>138</td>\n",
       "      <td>118.0</td>\n",
       "      <td>...</td>\n",
       "      <td>True</td>\n",
       "      <td>False</td>\n",
       "      <td>False</td>\n",
       "      <td>, Subdistrict Alameda de Osuna, District Baraj...</td>\n",
       "      <td>Barajas</td>\n",
       "      <td>Alameda de Osuna</td>\n",
       "      <td>28042.0</td>\n",
       "      <td>5 November</td>\n",
       "      <td>40.456178</td>\n",
       "      <td>-3.594880</td>\n",
       "    </tr>\n",
       "    <tr>\n",
       "      <th>9226</th>\n",
       "      <td>95831170</td>\n",
       "      <td>https://www.idealista.com/en/inmueble/95831170/</td>\n",
       "      <td>Flat / apartment for rent in Góndola</td>\n",
       "      <td>Flat</td>\n",
       "      <td>1350</td>\n",
       "      <td>1.0</td>\n",
       "      <td>False</td>\n",
       "      <td>Alquilar y Vender Madrid</td>\n",
       "      <td>114</td>\n",
       "      <td>104.0</td>\n",
       "      <td>...</td>\n",
       "      <td>False</td>\n",
       "      <td>True</td>\n",
       "      <td>False</td>\n",
       "      <td>Góndola, Subdistrict Alameda de Osuna, Distric...</td>\n",
       "      <td>Barajas</td>\n",
       "      <td>Alameda de Osuna</td>\n",
       "      <td>28042.0</td>\n",
       "      <td>3 November</td>\n",
       "      <td>40.453432</td>\n",
       "      <td>-3.589196</td>\n",
       "    </tr>\n",
       "    <tr>\n",
       "      <th>9227</th>\n",
       "      <td>99405352</td>\n",
       "      <td>https://www.idealista.com/en/inmueble/99405352/</td>\n",
       "      <td>Flat / apartment for rent in calle Timón</td>\n",
       "      <td>Flat</td>\n",
       "      <td>850</td>\n",
       "      <td>NaN</td>\n",
       "      <td>False</td>\n",
       "      <td>Redpiso</td>\n",
       "      <td>64</td>\n",
       "      <td>51.0</td>\n",
       "      <td>...</td>\n",
       "      <td>False</td>\n",
       "      <td>False</td>\n",
       "      <td>False</td>\n",
       "      <td>Calle Timón, Subdistrict Timón, District Baraj...</td>\n",
       "      <td>Barajas</td>\n",
       "      <td>Timón</td>\n",
       "      <td>28042.0</td>\n",
       "      <td>3 November</td>\n",
       "      <td>40.472818</td>\n",
       "      <td>-3.585470</td>\n",
       "    </tr>\n",
       "    <tr>\n",
       "      <th>9228</th>\n",
       "      <td>2139592</td>\n",
       "      <td>https://www.idealista.com/en/inmueble/2139592/</td>\n",
       "      <td>Flat / apartment for rent in calle Bariloche, 1</td>\n",
       "      <td>Flat</td>\n",
       "      <td>950</td>\n",
       "      <td>1.0</td>\n",
       "      <td>True</td>\n",
       "      <td>NaN</td>\n",
       "      <td>70</td>\n",
       "      <td>NaN</td>\n",
       "      <td>...</td>\n",
       "      <td>True</td>\n",
       "      <td>True</td>\n",
       "      <td>False</td>\n",
       "      <td>Calle Bariloche, 1, Urb. puerta coronales, Sub...</td>\n",
       "      <td>Barajas</td>\n",
       "      <td>Campo de las Naciones-Corralejos</td>\n",
       "      <td>28042.0</td>\n",
       "      <td>3 November</td>\n",
       "      <td>40.467742</td>\n",
       "      <td>-3.590706</td>\n",
       "    </tr>\n",
       "  </tbody>\n",
       "</table>\n",
       "<p>5 rows × 34 columns</p>\n",
       "</div>"
      ]
     },
     "metadata": {},
     "output_type": "display_data"
    }
   ],
   "execution_count": 164
  },
  {
   "metadata": {
    "ExecuteTime": {
     "end_time": "2025-02-24T11:44:58.857794Z",
     "start_time": "2025-02-24T11:44:58.850433Z"
    }
   },
   "cell_type": "code",
   "source": [
    "# Obtener información general sobre el dataset, incluyendo tipos de datos y valores nulos\n",
    "print(\"Información general del dataset:\")\n",
    "display(df.info())"
   ],
   "id": "cff1b45136ac14b9",
   "outputs": [
    {
     "name": "stdout",
     "output_type": "stream",
     "text": [
      "Información general del dataset:\n",
      "<class 'pandas.core.frame.DataFrame'>\n",
      "RangeIndex: 9229 entries, 0 to 9228\n",
      "Data columns (total 34 columns):\n",
      " #   Column             Non-Null Count  Dtype  \n",
      "---  ------             --------------  -----  \n",
      " 0   web_id             9229 non-null   int64  \n",
      " 1   url                9229 non-null   object \n",
      " 2   title              9229 non-null   object \n",
      " 3   type               9229 non-null   object \n",
      " 4   price              9229 non-null   int64  \n",
      " 5   deposit            5407 non-null   float64\n",
      " 6   private_owner      9229 non-null   bool   \n",
      " 7   professional_name  7622 non-null   object \n",
      " 8   floor_built        9229 non-null   int64  \n",
      " 9   floor_area         3938 non-null   float64\n",
      " 10  floor              8908 non-null   object \n",
      " 11  year_built         2893 non-null   float64\n",
      " 12  orientation        4411 non-null   object \n",
      " 13  bedrooms           9229 non-null   int64  \n",
      " 14  bathrooms          9229 non-null   int64  \n",
      " 15  second_hand        9229 non-null   bool   \n",
      " 16  lift               9229 non-null   bool   \n",
      " 17  garage_included    9229 non-null   bool   \n",
      " 18  furnished          9229 non-null   bool   \n",
      " 19  equipped_kitchen   9229 non-null   bool   \n",
      " 20  fitted_wardrobes   9229 non-null   bool   \n",
      " 21  air_conditioning   9229 non-null   bool   \n",
      " 22  terrace            9229 non-null   bool   \n",
      " 23  balcony            9229 non-null   bool   \n",
      " 24  storeroom          9229 non-null   bool   \n",
      " 25  swimming_pool      9229 non-null   bool   \n",
      " 26  garden_area        9229 non-null   bool   \n",
      " 27  location           9229 non-null   object \n",
      " 28  district           9096 non-null   object \n",
      " 29  subdistrict        8458 non-null   object \n",
      " 30  postalcode         6834 non-null   float64\n",
      " 31  last_update        9229 non-null   object \n",
      " 32  lat                9229 non-null   float64\n",
      " 33  lng                9229 non-null   float64\n",
      "dtypes: bool(13), float64(6), int64(5), object(10)\n",
      "memory usage: 1.6+ MB\n"
     ]
    },
    {
     "data": {
      "text/plain": [
       "None"
      ]
     },
     "metadata": {},
     "output_type": "display_data"
    }
   ],
   "execution_count": 165
  },
  {
   "metadata": {
    "ExecuteTime": {
     "end_time": "2025-02-24T11:44:58.924865Z",
     "start_time": "2025-02-24T11:44:58.922796Z"
    }
   },
   "cell_type": "code",
   "source": [
    "# Mostrar el número de filas y columnas en el dataset\n",
    "print(\"Número de filas y columnas en el dataset:\")\n",
    "print(df.shape)"
   ],
   "id": "d72fee52d985c328",
   "outputs": [
    {
     "name": "stdout",
     "output_type": "stream",
     "text": [
      "Número de filas y columnas en el dataset:\n",
      "(9229, 34)\n"
     ]
    }
   ],
   "execution_count": 166
  },
  {
   "metadata": {
    "ExecuteTime": {
     "end_time": "2025-02-24T11:44:58.950312Z",
     "start_time": "2025-02-24T11:44:58.946961Z"
    }
   },
   "cell_type": "code",
   "source": [
    "# Identificar las columnas numéricas y categóricas\n",
    "numerical_columns = df.select_dtypes(include=['number']).columns.tolist()\n",
    "categorical_columns = df.select_dtypes(include=['object', 'category']).columns.tolist()"
   ],
   "id": "6cc0a5878406bc3f",
   "outputs": [],
   "execution_count": 167
  },
  {
   "metadata": {
    "ExecuteTime": {
     "end_time": "2025-02-24T11:44:58.961953Z",
     "start_time": "2025-02-24T11:44:58.959206Z"
    }
   },
   "cell_type": "code",
   "source": [
    "# Mostrar las columnas numéricas identificadas\n",
    "print(\"Columnas numéricas:\")\n",
    "print(numerical_columns)"
   ],
   "id": "b8e474b4b602fdfc",
   "outputs": [
    {
     "name": "stdout",
     "output_type": "stream",
     "text": [
      "Columnas numéricas:\n",
      "['web_id', 'price', 'deposit', 'floor_built', 'floor_area', 'year_built', 'bedrooms', 'bathrooms', 'postalcode', 'lat', 'lng']\n"
     ]
    }
   ],
   "execution_count": 168
  },
  {
   "metadata": {
    "ExecuteTime": {
     "end_time": "2025-02-24T11:44:59.040091Z",
     "start_time": "2025-02-24T11:44:59.037530Z"
    }
   },
   "cell_type": "code",
   "source": [
    "# Mostrar las columnas categóricas identificadas\n",
    "print(\"Columnas categóricas:\")\n",
    "print(categorical_columns)"
   ],
   "id": "3c8f87e02e5478fe",
   "outputs": [
    {
     "name": "stdout",
     "output_type": "stream",
     "text": [
      "Columnas categóricas:\n",
      "['url', 'title', 'type', 'professional_name', 'floor', 'orientation', 'location', 'district', 'subdistrict', 'last_update']\n"
     ]
    }
   ],
   "execution_count": 169
  },
  {
   "metadata": {
    "ExecuteTime": {
     "end_time": "2025-02-24T11:44:59.142740Z",
     "start_time": "2025-02-24T11:44:59.131897Z"
    }
   },
   "cell_type": "code",
   "source": [
    "# Contar valores únicos en variables categóricas\n",
    "print(\"Valores únicos en variables categóricas:\")\n",
    "df[categorical_columns].nunique()"
   ],
   "id": "1e7904d2ca243a41",
   "outputs": [
    {
     "name": "stdout",
     "output_type": "stream",
     "text": [
      "Valores únicos en variables categóricas:\n"
     ]
    },
    {
     "data": {
      "text/plain": [
       "url                  9229\n",
       "title                5826\n",
       "type                   10\n",
       "professional_name    1580\n",
       "floor                 198\n",
       "orientation             4\n",
       "location             5576\n",
       "district              120\n",
       "subdistrict           165\n",
       "last_update           236\n",
       "dtype: int64"
      ]
     },
     "execution_count": 170,
     "metadata": {},
     "output_type": "execute_result"
    }
   ],
   "execution_count": 170
  },
  {
   "metadata": {
    "ExecuteTime": {
     "end_time": "2025-02-24T11:44:59.227385Z",
     "start_time": "2025-02-24T11:44:59.213311Z"
    }
   },
   "cell_type": "code",
   "source": [
    "# Describir estadísticamente las variables numéricas para analizar su distribución y posibles valores atípicos\n",
    "print(\"Resumen estadístico de las variables numéricas:\")\n",
    "display(df.describe())"
   ],
   "id": "5f6b3ad50b6bc66f",
   "outputs": [
    {
     "name": "stdout",
     "output_type": "stream",
     "text": [
      "Resumen estadístico de las variables numéricas:\n"
     ]
    },
    {
     "data": {
      "text/plain": [
       "             web_id         price      deposit  floor_built   floor_area  \\\n",
       "count  9.229000e+03   9229.000000  5407.000000  9229.000000  3938.000000   \n",
       "mean   9.133077e+07   1937.995883     1.470686   110.285405    94.357288   \n",
       "std    2.016654e+07   1615.063308     0.622239    87.183901    72.822703   \n",
       "min    3.902730e+05    400.000000     1.000000     0.000000     0.000000   \n",
       "25%    9.578928e+07   1000.000000     1.000000    60.000000    54.000000   \n",
       "50%    9.891848e+07   1400.000000     1.000000    85.000000    75.000000   \n",
       "75%    9.929904e+07   2300.000000     2.000000   127.000000   110.000000   \n",
       "max    9.944594e+07  25000.000000     6.000000   990.000000   995.000000   \n",
       "\n",
       "        year_built     bedrooms    bathrooms    postalcode          lat  \\\n",
       "count  2893.000000  9229.000000  9229.000000   6834.000000  9229.000000   \n",
       "mean   1975.491531     2.259508     1.787518  28076.947761    40.348891   \n",
       "std      34.928909     1.332689     1.077126    171.686236     2.187182   \n",
       "min    1800.000000     0.000000     1.000000  28001.000000   -34.466315   \n",
       "25%    1960.000000     1.000000     1.000000  28009.000000    40.416723   \n",
       "50%    1978.000000     2.000000     2.000000  28023.000000    40.432876   \n",
       "75%    2003.000000     3.000000     2.000000  28043.000000    40.456408   \n",
       "max    2022.000000    25.000000    20.000000  28950.000000    56.263920   \n",
       "\n",
       "               lng  \n",
       "count  9229.000000  \n",
       "mean     -3.885809  \n",
       "std       4.094826  \n",
       "min    -122.282185  \n",
       "25%      -3.708353  \n",
       "50%      -3.693365  \n",
       "75%      -3.672290  \n",
       "max       9.501785  "
      ],
      "text/html": [
       "<div>\n",
       "<style scoped>\n",
       "    .dataframe tbody tr th:only-of-type {\n",
       "        vertical-align: middle;\n",
       "    }\n",
       "\n",
       "    .dataframe tbody tr th {\n",
       "        vertical-align: top;\n",
       "    }\n",
       "\n",
       "    .dataframe thead th {\n",
       "        text-align: right;\n",
       "    }\n",
       "</style>\n",
       "<table border=\"1\" class=\"dataframe\">\n",
       "  <thead>\n",
       "    <tr style=\"text-align: right;\">\n",
       "      <th></th>\n",
       "      <th>web_id</th>\n",
       "      <th>price</th>\n",
       "      <th>deposit</th>\n",
       "      <th>floor_built</th>\n",
       "      <th>floor_area</th>\n",
       "      <th>year_built</th>\n",
       "      <th>bedrooms</th>\n",
       "      <th>bathrooms</th>\n",
       "      <th>postalcode</th>\n",
       "      <th>lat</th>\n",
       "      <th>lng</th>\n",
       "    </tr>\n",
       "  </thead>\n",
       "  <tbody>\n",
       "    <tr>\n",
       "      <th>count</th>\n",
       "      <td>9.229000e+03</td>\n",
       "      <td>9229.000000</td>\n",
       "      <td>5407.000000</td>\n",
       "      <td>9229.000000</td>\n",
       "      <td>3938.000000</td>\n",
       "      <td>2893.000000</td>\n",
       "      <td>9229.000000</td>\n",
       "      <td>9229.000000</td>\n",
       "      <td>6834.000000</td>\n",
       "      <td>9229.000000</td>\n",
       "      <td>9229.000000</td>\n",
       "    </tr>\n",
       "    <tr>\n",
       "      <th>mean</th>\n",
       "      <td>9.133077e+07</td>\n",
       "      <td>1937.995883</td>\n",
       "      <td>1.470686</td>\n",
       "      <td>110.285405</td>\n",
       "      <td>94.357288</td>\n",
       "      <td>1975.491531</td>\n",
       "      <td>2.259508</td>\n",
       "      <td>1.787518</td>\n",
       "      <td>28076.947761</td>\n",
       "      <td>40.348891</td>\n",
       "      <td>-3.885809</td>\n",
       "    </tr>\n",
       "    <tr>\n",
       "      <th>std</th>\n",
       "      <td>2.016654e+07</td>\n",
       "      <td>1615.063308</td>\n",
       "      <td>0.622239</td>\n",
       "      <td>87.183901</td>\n",
       "      <td>72.822703</td>\n",
       "      <td>34.928909</td>\n",
       "      <td>1.332689</td>\n",
       "      <td>1.077126</td>\n",
       "      <td>171.686236</td>\n",
       "      <td>2.187182</td>\n",
       "      <td>4.094826</td>\n",
       "    </tr>\n",
       "    <tr>\n",
       "      <th>min</th>\n",
       "      <td>3.902730e+05</td>\n",
       "      <td>400.000000</td>\n",
       "      <td>1.000000</td>\n",
       "      <td>0.000000</td>\n",
       "      <td>0.000000</td>\n",
       "      <td>1800.000000</td>\n",
       "      <td>0.000000</td>\n",
       "      <td>1.000000</td>\n",
       "      <td>28001.000000</td>\n",
       "      <td>-34.466315</td>\n",
       "      <td>-122.282185</td>\n",
       "    </tr>\n",
       "    <tr>\n",
       "      <th>25%</th>\n",
       "      <td>9.578928e+07</td>\n",
       "      <td>1000.000000</td>\n",
       "      <td>1.000000</td>\n",
       "      <td>60.000000</td>\n",
       "      <td>54.000000</td>\n",
       "      <td>1960.000000</td>\n",
       "      <td>1.000000</td>\n",
       "      <td>1.000000</td>\n",
       "      <td>28009.000000</td>\n",
       "      <td>40.416723</td>\n",
       "      <td>-3.708353</td>\n",
       "    </tr>\n",
       "    <tr>\n",
       "      <th>50%</th>\n",
       "      <td>9.891848e+07</td>\n",
       "      <td>1400.000000</td>\n",
       "      <td>1.000000</td>\n",
       "      <td>85.000000</td>\n",
       "      <td>75.000000</td>\n",
       "      <td>1978.000000</td>\n",
       "      <td>2.000000</td>\n",
       "      <td>2.000000</td>\n",
       "      <td>28023.000000</td>\n",
       "      <td>40.432876</td>\n",
       "      <td>-3.693365</td>\n",
       "    </tr>\n",
       "    <tr>\n",
       "      <th>75%</th>\n",
       "      <td>9.929904e+07</td>\n",
       "      <td>2300.000000</td>\n",
       "      <td>2.000000</td>\n",
       "      <td>127.000000</td>\n",
       "      <td>110.000000</td>\n",
       "      <td>2003.000000</td>\n",
       "      <td>3.000000</td>\n",
       "      <td>2.000000</td>\n",
       "      <td>28043.000000</td>\n",
       "      <td>40.456408</td>\n",
       "      <td>-3.672290</td>\n",
       "    </tr>\n",
       "    <tr>\n",
       "      <th>max</th>\n",
       "      <td>9.944594e+07</td>\n",
       "      <td>25000.000000</td>\n",
       "      <td>6.000000</td>\n",
       "      <td>990.000000</td>\n",
       "      <td>995.000000</td>\n",
       "      <td>2022.000000</td>\n",
       "      <td>25.000000</td>\n",
       "      <td>20.000000</td>\n",
       "      <td>28950.000000</td>\n",
       "      <td>56.263920</td>\n",
       "      <td>9.501785</td>\n",
       "    </tr>\n",
       "  </tbody>\n",
       "</table>\n",
       "</div>"
      ]
     },
     "metadata": {},
     "output_type": "display_data"
    }
   ],
   "execution_count": 171
  },
  {
   "metadata": {},
   "cell_type": "markdown",
   "source": "### 1.4 - Comprobar relaciones potenciales",
   "id": "3c939f1df9844c69"
  },
  {
   "metadata": {
    "ExecuteTime": {
     "end_time": "2025-02-24T11:44:59.271047Z",
     "start_time": "2025-02-24T11:44:59.262406Z"
    }
   },
   "cell_type": "code",
   "source": [
    "# Se genera la matriz de correlación para analizar la relación entre las variables numéricas\n",
    "print(\"Matriz de correlación entre variables numéricas:\")\n",
    "correlation_matrix = df[numerical_columns].corr()\n",
    "display(correlation_matrix)"
   ],
   "id": "b88cd433b80c151",
   "outputs": [
    {
     "name": "stdout",
     "output_type": "stream",
     "text": [
      "Matriz de correlación entre variables numéricas:\n"
     ]
    },
    {
     "data": {
      "text/plain": [
       "               web_id     price   deposit  floor_built  floor_area  \\\n",
       "web_id       1.000000  0.011329 -0.048291     0.013207    0.047059   \n",
       "price        0.011329  1.000000  0.059232     0.700145    0.728005   \n",
       "deposit     -0.048291  0.059232  1.000000     0.109606    0.054622   \n",
       "floor_built  0.013207  0.700145  0.109606     1.000000    0.913232   \n",
       "floor_area   0.047059  0.728005  0.054622     0.913232    1.000000   \n",
       "year_built  -0.033324  0.019199  0.030535     0.104845    0.070795   \n",
       "bedrooms     0.042937  0.515126  0.064656     0.729301    0.735387   \n",
       "bathrooms    0.016238  0.693651  0.114684     0.803921    0.772292   \n",
       "postalcode   0.029412 -0.090495  0.023844     0.121317    0.093523   \n",
       "lat         -0.009297 -0.002525 -0.023048    -0.010606    0.015441   \n",
       "lng         -0.007663 -0.002353 -0.030092    -0.017718   -0.003767   \n",
       "\n",
       "             year_built  bedrooms  bathrooms  postalcode       lat       lng  \n",
       "web_id        -0.033324  0.042937   0.016238    0.029412 -0.009297 -0.007663  \n",
       "price          0.019199  0.515126   0.693651   -0.090495 -0.002525 -0.002353  \n",
       "deposit        0.030535  0.064656   0.114684    0.023844 -0.023048 -0.030092  \n",
       "floor_built    0.104845  0.729301   0.803921    0.121317 -0.010606 -0.017718  \n",
       "floor_area     0.070795  0.735387   0.772292    0.093523  0.015441 -0.003767  \n",
       "year_built     1.000000  0.047959   0.112018    0.219147  0.025375 -0.000908  \n",
       "bedrooms       0.047959  1.000000   0.738524    0.118242 -0.001036 -0.001875  \n",
       "bathrooms      0.112018  0.738524   1.000000    0.079569 -0.008114 -0.020107  \n",
       "postalcode     0.219147  0.118242   0.079569    1.000000  0.011623  0.003252  \n",
       "lat            0.025375 -0.001036  -0.008114    0.011623  1.000000  0.699391  \n",
       "lng           -0.000908 -0.001875  -0.020107    0.003252  0.699391  1.000000  "
      ],
      "text/html": [
       "<div>\n",
       "<style scoped>\n",
       "    .dataframe tbody tr th:only-of-type {\n",
       "        vertical-align: middle;\n",
       "    }\n",
       "\n",
       "    .dataframe tbody tr th {\n",
       "        vertical-align: top;\n",
       "    }\n",
       "\n",
       "    .dataframe thead th {\n",
       "        text-align: right;\n",
       "    }\n",
       "</style>\n",
       "<table border=\"1\" class=\"dataframe\">\n",
       "  <thead>\n",
       "    <tr style=\"text-align: right;\">\n",
       "      <th></th>\n",
       "      <th>web_id</th>\n",
       "      <th>price</th>\n",
       "      <th>deposit</th>\n",
       "      <th>floor_built</th>\n",
       "      <th>floor_area</th>\n",
       "      <th>year_built</th>\n",
       "      <th>bedrooms</th>\n",
       "      <th>bathrooms</th>\n",
       "      <th>postalcode</th>\n",
       "      <th>lat</th>\n",
       "      <th>lng</th>\n",
       "    </tr>\n",
       "  </thead>\n",
       "  <tbody>\n",
       "    <tr>\n",
       "      <th>web_id</th>\n",
       "      <td>1.000000</td>\n",
       "      <td>0.011329</td>\n",
       "      <td>-0.048291</td>\n",
       "      <td>0.013207</td>\n",
       "      <td>0.047059</td>\n",
       "      <td>-0.033324</td>\n",
       "      <td>0.042937</td>\n",
       "      <td>0.016238</td>\n",
       "      <td>0.029412</td>\n",
       "      <td>-0.009297</td>\n",
       "      <td>-0.007663</td>\n",
       "    </tr>\n",
       "    <tr>\n",
       "      <th>price</th>\n",
       "      <td>0.011329</td>\n",
       "      <td>1.000000</td>\n",
       "      <td>0.059232</td>\n",
       "      <td>0.700145</td>\n",
       "      <td>0.728005</td>\n",
       "      <td>0.019199</td>\n",
       "      <td>0.515126</td>\n",
       "      <td>0.693651</td>\n",
       "      <td>-0.090495</td>\n",
       "      <td>-0.002525</td>\n",
       "      <td>-0.002353</td>\n",
       "    </tr>\n",
       "    <tr>\n",
       "      <th>deposit</th>\n",
       "      <td>-0.048291</td>\n",
       "      <td>0.059232</td>\n",
       "      <td>1.000000</td>\n",
       "      <td>0.109606</td>\n",
       "      <td>0.054622</td>\n",
       "      <td>0.030535</td>\n",
       "      <td>0.064656</td>\n",
       "      <td>0.114684</td>\n",
       "      <td>0.023844</td>\n",
       "      <td>-0.023048</td>\n",
       "      <td>-0.030092</td>\n",
       "    </tr>\n",
       "    <tr>\n",
       "      <th>floor_built</th>\n",
       "      <td>0.013207</td>\n",
       "      <td>0.700145</td>\n",
       "      <td>0.109606</td>\n",
       "      <td>1.000000</td>\n",
       "      <td>0.913232</td>\n",
       "      <td>0.104845</td>\n",
       "      <td>0.729301</td>\n",
       "      <td>0.803921</td>\n",
       "      <td>0.121317</td>\n",
       "      <td>-0.010606</td>\n",
       "      <td>-0.017718</td>\n",
       "    </tr>\n",
       "    <tr>\n",
       "      <th>floor_area</th>\n",
       "      <td>0.047059</td>\n",
       "      <td>0.728005</td>\n",
       "      <td>0.054622</td>\n",
       "      <td>0.913232</td>\n",
       "      <td>1.000000</td>\n",
       "      <td>0.070795</td>\n",
       "      <td>0.735387</td>\n",
       "      <td>0.772292</td>\n",
       "      <td>0.093523</td>\n",
       "      <td>0.015441</td>\n",
       "      <td>-0.003767</td>\n",
       "    </tr>\n",
       "    <tr>\n",
       "      <th>year_built</th>\n",
       "      <td>-0.033324</td>\n",
       "      <td>0.019199</td>\n",
       "      <td>0.030535</td>\n",
       "      <td>0.104845</td>\n",
       "      <td>0.070795</td>\n",
       "      <td>1.000000</td>\n",
       "      <td>0.047959</td>\n",
       "      <td>0.112018</td>\n",
       "      <td>0.219147</td>\n",
       "      <td>0.025375</td>\n",
       "      <td>-0.000908</td>\n",
       "    </tr>\n",
       "    <tr>\n",
       "      <th>bedrooms</th>\n",
       "      <td>0.042937</td>\n",
       "      <td>0.515126</td>\n",
       "      <td>0.064656</td>\n",
       "      <td>0.729301</td>\n",
       "      <td>0.735387</td>\n",
       "      <td>0.047959</td>\n",
       "      <td>1.000000</td>\n",
       "      <td>0.738524</td>\n",
       "      <td>0.118242</td>\n",
       "      <td>-0.001036</td>\n",
       "      <td>-0.001875</td>\n",
       "    </tr>\n",
       "    <tr>\n",
       "      <th>bathrooms</th>\n",
       "      <td>0.016238</td>\n",
       "      <td>0.693651</td>\n",
       "      <td>0.114684</td>\n",
       "      <td>0.803921</td>\n",
       "      <td>0.772292</td>\n",
       "      <td>0.112018</td>\n",
       "      <td>0.738524</td>\n",
       "      <td>1.000000</td>\n",
       "      <td>0.079569</td>\n",
       "      <td>-0.008114</td>\n",
       "      <td>-0.020107</td>\n",
       "    </tr>\n",
       "    <tr>\n",
       "      <th>postalcode</th>\n",
       "      <td>0.029412</td>\n",
       "      <td>-0.090495</td>\n",
       "      <td>0.023844</td>\n",
       "      <td>0.121317</td>\n",
       "      <td>0.093523</td>\n",
       "      <td>0.219147</td>\n",
       "      <td>0.118242</td>\n",
       "      <td>0.079569</td>\n",
       "      <td>1.000000</td>\n",
       "      <td>0.011623</td>\n",
       "      <td>0.003252</td>\n",
       "    </tr>\n",
       "    <tr>\n",
       "      <th>lat</th>\n",
       "      <td>-0.009297</td>\n",
       "      <td>-0.002525</td>\n",
       "      <td>-0.023048</td>\n",
       "      <td>-0.010606</td>\n",
       "      <td>0.015441</td>\n",
       "      <td>0.025375</td>\n",
       "      <td>-0.001036</td>\n",
       "      <td>-0.008114</td>\n",
       "      <td>0.011623</td>\n",
       "      <td>1.000000</td>\n",
       "      <td>0.699391</td>\n",
       "    </tr>\n",
       "    <tr>\n",
       "      <th>lng</th>\n",
       "      <td>-0.007663</td>\n",
       "      <td>-0.002353</td>\n",
       "      <td>-0.030092</td>\n",
       "      <td>-0.017718</td>\n",
       "      <td>-0.003767</td>\n",
       "      <td>-0.000908</td>\n",
       "      <td>-0.001875</td>\n",
       "      <td>-0.020107</td>\n",
       "      <td>0.003252</td>\n",
       "      <td>0.699391</td>\n",
       "      <td>1.000000</td>\n",
       "    </tr>\n",
       "  </tbody>\n",
       "</table>\n",
       "</div>"
      ]
     },
     "metadata": {},
     "output_type": "display_data"
    }
   ],
   "execution_count": 172
  },
  {
   "metadata": {
    "ExecuteTime": {
     "end_time": "2025-02-24T11:44:59.354058Z",
     "start_time": "2025-02-24T11:44:59.348514Z"
    }
   },
   "cell_type": "code",
   "source": [
    "# Identificar relaciones relevantes para modelado\n",
    "\n",
    "# Basándonos en la matriz de correlación, seleccionamos las variables con mayor impacto en 'price'\n",
    "# Según el análisis previo, las variables con correlación más fuerte con 'price' son:\n",
    "# - floor_built (0.70)\n",
    "# - floor_area (0.72)\n",
    "# - bedrooms (0.51)\n",
    "# - bathrooms (0.69)\n",
    "# Otras variables tienen correlaciones insignificantes (<0.01) y no se consideran para modelado\n",
    "\n",
    "key_relationships = ['price', 'floor_built', 'floor_area', 'bedrooms', 'bathrooms']\n",
    "print(\"Relaciones clave para la predicción de price:\")\n",
    "display(df[key_relationships].corr())"
   ],
   "id": "7f431580b67734b8",
   "outputs": [
    {
     "name": "stdout",
     "output_type": "stream",
     "text": [
      "Relaciones clave para la predicción de price:\n"
     ]
    },
    {
     "data": {
      "text/plain": [
       "                price  floor_built  floor_area  bedrooms  bathrooms\n",
       "price        1.000000     0.700145    0.728005  0.515126   0.693651\n",
       "floor_built  0.700145     1.000000    0.913232  0.729301   0.803921\n",
       "floor_area   0.728005     0.913232    1.000000  0.735387   0.772292\n",
       "bedrooms     0.515126     0.729301    0.735387  1.000000   0.738524\n",
       "bathrooms    0.693651     0.803921    0.772292  0.738524   1.000000"
      ],
      "text/html": [
       "<div>\n",
       "<style scoped>\n",
       "    .dataframe tbody tr th:only-of-type {\n",
       "        vertical-align: middle;\n",
       "    }\n",
       "\n",
       "    .dataframe tbody tr th {\n",
       "        vertical-align: top;\n",
       "    }\n",
       "\n",
       "    .dataframe thead th {\n",
       "        text-align: right;\n",
       "    }\n",
       "</style>\n",
       "<table border=\"1\" class=\"dataframe\">\n",
       "  <thead>\n",
       "    <tr style=\"text-align: right;\">\n",
       "      <th></th>\n",
       "      <th>price</th>\n",
       "      <th>floor_built</th>\n",
       "      <th>floor_area</th>\n",
       "      <th>bedrooms</th>\n",
       "      <th>bathrooms</th>\n",
       "    </tr>\n",
       "  </thead>\n",
       "  <tbody>\n",
       "    <tr>\n",
       "      <th>price</th>\n",
       "      <td>1.000000</td>\n",
       "      <td>0.700145</td>\n",
       "      <td>0.728005</td>\n",
       "      <td>0.515126</td>\n",
       "      <td>0.693651</td>\n",
       "    </tr>\n",
       "    <tr>\n",
       "      <th>floor_built</th>\n",
       "      <td>0.700145</td>\n",
       "      <td>1.000000</td>\n",
       "      <td>0.913232</td>\n",
       "      <td>0.729301</td>\n",
       "      <td>0.803921</td>\n",
       "    </tr>\n",
       "    <tr>\n",
       "      <th>floor_area</th>\n",
       "      <td>0.728005</td>\n",
       "      <td>0.913232</td>\n",
       "      <td>1.000000</td>\n",
       "      <td>0.735387</td>\n",
       "      <td>0.772292</td>\n",
       "    </tr>\n",
       "    <tr>\n",
       "      <th>bedrooms</th>\n",
       "      <td>0.515126</td>\n",
       "      <td>0.729301</td>\n",
       "      <td>0.735387</td>\n",
       "      <td>1.000000</td>\n",
       "      <td>0.738524</td>\n",
       "    </tr>\n",
       "    <tr>\n",
       "      <th>bathrooms</th>\n",
       "      <td>0.693651</td>\n",
       "      <td>0.803921</td>\n",
       "      <td>0.772292</td>\n",
       "      <td>0.738524</td>\n",
       "      <td>1.000000</td>\n",
       "    </tr>\n",
       "  </tbody>\n",
       "</table>\n",
       "</div>"
      ]
     },
     "metadata": {},
     "output_type": "display_data"
    }
   ],
   "execution_count": 173
  },
  {
   "metadata": {
    "ExecuteTime": {
     "end_time": "2025-02-24T11:44:59.448605Z",
     "start_time": "2025-02-24T11:44:59.445181Z"
    }
   },
   "cell_type": "code",
   "source": [
    "# Se selecciona balcony como variable de clasificación\n",
    "# Se analiza la frecuencia de los valores presentes en balcony para entender su distribución\n",
    "print(\"Frecuencia de valores en la variable balcony:\")\n",
    "df['balcony'].value_counts()"
   ],
   "id": "99008d5a2872faa0",
   "outputs": [
    {
     "name": "stdout",
     "output_type": "stream",
     "text": [
      "Frecuencia de valores en la variable balcony:\n"
     ]
    },
    {
     "data": {
      "text/plain": [
       "balcony\n",
       "False    7579\n",
       "True     1650\n",
       "Name: count, dtype: int64"
      ]
     },
     "execution_count": 174,
     "metadata": {},
     "output_type": "execute_result"
    }
   ],
   "execution_count": 174
  },
  {
   "metadata": {},
   "cell_type": "markdown",
   "source": "## 2 - Limpieza y validación de los datos",
   "id": "5908d74e2a81ac48"
  },
  {
   "metadata": {},
   "cell_type": "markdown",
   "source": "### 2.1 - Identificación y manejo de valores nulos\n",
   "id": "ef1f12f8be859629"
  },
  {
   "metadata": {
    "ExecuteTime": {
     "end_time": "2025-02-24T11:44:59.583827Z",
     "start_time": "2025-02-24T11:44:59.577759Z"
    }
   },
   "cell_type": "code",
   "source": [
    "# Contamos los valores nulos en cada columna\n",
    "print(\"Valores nulos en el dataset:\")\n",
    "missing_values = df.isnull().sum()\n",
    "missing_values[missing_values > 0]"
   ],
   "id": "9c4b76279f210ca2",
   "outputs": [
    {
     "name": "stdout",
     "output_type": "stream",
     "text": [
      "Valores nulos en el dataset:\n"
     ]
    },
    {
     "data": {
      "text/plain": [
       "deposit              3822\n",
       "professional_name    1607\n",
       "floor_area           5291\n",
       "floor                 321\n",
       "year_built           6336\n",
       "orientation          4818\n",
       "district              133\n",
       "subdistrict           771\n",
       "postalcode           2395\n",
       "dtype: int64"
      ]
     },
     "execution_count": 175,
     "metadata": {},
     "output_type": "execute_result"
    }
   ],
   "execution_count": 175
  },
  {
   "metadata": {
    "ExecuteTime": {
     "end_time": "2025-02-24T11:44:59.650246Z",
     "start_time": "2025-02-24T11:44:59.643645Z"
    }
   },
   "cell_type": "code",
   "source": [
    "# # Eliminar columnas con más del 50% de valores nulos\n",
    "# threshold_col = 0.5\n",
    "# null_percent = df.isnull().mean()\n",
    "# cols_to_drop = null_percent[null_percent > threshold_col].index\n",
    "#\n",
    "# df.drop(columns=cols_to_drop, inplace=True)\n",
    "# print(f\"Columnas eliminadas por tener más del {threshold_col * 100}% de valores nulos:\")\n",
    "# print(list(cols_to_drop))"
   ],
   "id": "4af9deed03455860",
   "outputs": [
    {
     "name": "stdout",
     "output_type": "stream",
     "text": [
      "Columnas eliminadas por tener más del 50.0% de valores nulos:\n",
      "['floor_area', 'year_built', 'orientation']\n"
     ]
    }
   ],
   "execution_count": 176
  },
  {
   "metadata": {
    "ExecuteTime": {
     "end_time": "2025-02-24T11:44:59.690129Z",
     "start_time": "2025-02-24T11:44:59.683240Z"
    }
   },
   "cell_type": "code",
   "source": [
    "# # Eliminar filas con más del 50% de valores nulos\n",
    "# threshold_row = 0.5  # 50% de valores nulos\n",
    "# row_null_percent = df.isnull().mean(axis=1)\n",
    "# rows_to_drop = row_null_percent[row_null_percent > threshold_row].index\n",
    "#\n",
    "# df.drop(index=rows_to_drop, inplace=True)\n",
    "# print(f\"Filas eliminadas por tener más del {threshold_row * 100}% de valores nulos: {len(rows_to_drop)}\")"
   ],
   "id": "3d373d028d2ec0d8",
   "outputs": [
    {
     "name": "stdout",
     "output_type": "stream",
     "text": [
      "Filas eliminadas por tener más del 50.0% de valores nulos: 0\n"
     ]
    }
   ],
   "execution_count": 177
  },
  {
   "metadata": {
    "ExecuteTime": {
     "end_time": "2025-02-24T11:44:59.721796Z",
     "start_time": "2025-02-24T11:44:59.715885Z"
    }
   },
   "cell_type": "code",
   "source": [
    "# # Conteo de valores nulos por columna después de la limpieza\n",
    "# print(\"Valores nulos después de la limpieza:\")\n",
    "# df.isnull().sum()"
   ],
   "id": "fbb0b4bc982d3fb2",
   "outputs": [
    {
     "name": "stdout",
     "output_type": "stream",
     "text": [
      "Valores nulos después de la limpieza:\n"
     ]
    },
    {
     "data": {
      "text/plain": [
       "web_id                  0\n",
       "url                     0\n",
       "title                   0\n",
       "type                    0\n",
       "price                   0\n",
       "deposit              3822\n",
       "private_owner           0\n",
       "professional_name    1607\n",
       "floor_built             0\n",
       "floor                 321\n",
       "bedrooms                0\n",
       "bathrooms               0\n",
       "second_hand             0\n",
       "lift                    0\n",
       "garage_included         0\n",
       "furnished               0\n",
       "equipped_kitchen        0\n",
       "fitted_wardrobes        0\n",
       "air_conditioning        0\n",
       "terrace                 0\n",
       "balcony                 0\n",
       "storeroom               0\n",
       "swimming_pool           0\n",
       "garden_area             0\n",
       "location                0\n",
       "district              133\n",
       "subdistrict           771\n",
       "postalcode           2395\n",
       "last_update             0\n",
       "lat                     0\n",
       "lng                     0\n",
       "dtype: int64"
      ]
     },
     "execution_count": 178,
     "metadata": {},
     "output_type": "execute_result"
    }
   ],
   "execution_count": 178
  },
  {
   "metadata": {
    "ExecuteTime": {
     "end_time": "2025-02-24T11:44:59.760859Z",
     "start_time": "2025-02-24T11:44:59.759366Z"
    }
   },
   "cell_type": "code",
   "source": "",
   "id": "f033ecda8ee99955",
   "outputs": [],
   "execution_count": null
  }
 ],
 "metadata": {
  "kernelspec": {
   "display_name": "Python 3",
   "language": "python",
   "name": "python3"
  },
  "language_info": {
   "codemirror_mode": {
    "name": "ipython",
    "version": 2
   },
   "file_extension": ".py",
   "mimetype": "text/x-python",
   "name": "python",
   "nbconvert_exporter": "python",
   "pygments_lexer": "ipython2",
   "version": "2.7.6"
  }
 },
 "nbformat": 4,
 "nbformat_minor": 5
}
